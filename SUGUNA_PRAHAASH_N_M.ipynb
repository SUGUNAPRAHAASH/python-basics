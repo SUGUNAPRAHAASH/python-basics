{
  "nbformat": 4,
  "nbformat_minor": 0,
  "metadata": {
    "colab": {
      "provenance": [],
      "toc_visible": true,
      "include_colab_link": true
    },
    "kernelspec": {
      "name": "python3",
      "display_name": "Python 3"
    },
    "language_info": {
      "name": "python"
    }
  },
  "cells": [
    {
      "cell_type": "markdown",
      "metadata": {
        "id": "view-in-github",
        "colab_type": "text"
      },
      "source": [
        "<a href=\"https://colab.research.google.com/github/SUGUNAPRAHAASH/python-basics/blob/main/SUGUNA_PRAHAASH_N_M.ipynb\" target=\"_parent\"><img src=\"https://colab.research.google.com/assets/colab-badge.svg\" alt=\"Open In Colab\"/></a>"
      ]
    },
    {
      "cell_type": "markdown",
      "source": [
        "##COMPARISION OPERATOR"
      ],
      "metadata": {
        "id": "euA-GZk7BaAr"
      }
    },
    {
      "cell_type": "code",
      "source": [
        "\n",
        "a=10\n",
        "b=5\n",
        "print(a>b)\n",
        "print(a<b)\n",
        "print(a>=b)\n",
        "print(a<=b)\n",
        "print(a==b)\n",
        "print(a!=b)"
      ],
      "metadata": {
        "colab": {
          "base_uri": "https://localhost:8080/"
        },
        "id": "_nH1XgWiQvx_",
        "outputId": "19df72e6-e724-4e35-d4b5-c833cf674043"
      },
      "execution_count": null,
      "outputs": [
        {
          "output_type": "stream",
          "name": "stdout",
          "text": [
            "True\n",
            "False\n",
            "True\n",
            "False\n",
            "False\n",
            "True\n"
          ]
        }
      ]
    },
    {
      "cell_type": "markdown",
      "source": [
        "##ARITHMETIC OPERATOR"
      ],
      "metadata": {
        "id": "Iswh4Hh1Bjup"
      }
    },
    {
      "cell_type": "code",
      "execution_count": null,
      "metadata": {
        "colab": {
          "base_uri": "https://localhost:8080/"
        },
        "id": "WVF4zCe9Ppwm",
        "outputId": "888c675a-679f-4a85-b44a-a849c272ea48"
      },
      "outputs": [
        {
          "output_type": "stream",
          "name": "stdout",
          "text": [
            "addition- 15\n",
            "subtraction- 5\n",
            "multiplication- 50\n",
            "division- 2.0\n",
            "(modulus)remainder- 0\n",
            "floor division- 2\n",
            "SQRT- 100000\n"
          ]
        }
      ],
      "source": [
        "#arithmetic operator\n",
        "a=10\n",
        "b=5\n",
        "print(\"addition-\", a+b)\n",
        "print(\"subtraction-\", a-b)\n",
        "print(\"multiplication-\", a*b)\n",
        "print(\"division-\", a/b)\n",
        "print(\"(modulus)remainder-\", a%b)\n",
        "print(\"floor division-\", a//b)\n",
        "print(\"SQRT-\", a**b)"
      ]
    },
    {
      "cell_type": "markdown",
      "source": [
        "##SIMPLE CALCULATOR"
      ],
      "metadata": {
        "id": "iFy3kDJIBpBp"
      }
    },
    {
      "cell_type": "code",
      "source": [
        "#simple calculator\n",
        "a=100\n",
        "b=50\n",
        "ad=a+b\n",
        "print(\"addition=\", ad)\n",
        "sub=a-b\n",
        "print(\"subtraction=\", sub)\n",
        "mul=a*b\n",
        "print(\"multiplication=\", mul)\n",
        "div=a/b\n",
        "print(\"division=\", div)"
      ],
      "metadata": {
        "colab": {
          "base_uri": "https://localhost:8080/"
        },
        "id": "i2uNdCLvVFRi",
        "outputId": "fce0cc67-85a4-4501-db49-9f2c4add36f1"
      },
      "execution_count": null,
      "outputs": [
        {
          "output_type": "stream",
          "name": "stdout",
          "text": [
            "addition= 150\n",
            "subtraction= 50\n",
            "multiplication= 5000\n",
            "division= 2.0\n"
          ]
        }
      ]
    },
    {
      "cell_type": "markdown",
      "source": [
        "##LOGICAL OPERATOR"
      ],
      "metadata": {
        "id": "x7reuLBSBxwp"
      }
    },
    {
      "cell_type": "code",
      "source": [],
      "metadata": {
        "id": "Q_otFX5oVmvq"
      },
      "execution_count": null,
      "outputs": []
    },
    {
      "cell_type": "code",
      "source": [
        "#logical operator\n",
        "a=10\n",
        "b=5\n",
        "print(a>b and b<a)\n",
        "print(a>b or b<a)\n",
        "print(not(a>b and b<a))"
      ],
      "metadata": {
        "colab": {
          "base_uri": "https://localhost:8080/"
        },
        "id": "pGWpzkjURc9a",
        "outputId": "4c8704b2-92c0-4044-ae7c-42bcd2e8b28b"
      },
      "execution_count": null,
      "outputs": [
        {
          "output_type": "stream",
          "name": "stdout",
          "text": [
            "True\n",
            "True\n",
            "False\n"
          ]
        }
      ]
    },
    {
      "cell_type": "markdown",
      "source": [
        "##IDENTITY OPERATOR"
      ],
      "metadata": {
        "id": "Okz0V7C_B5cY"
      }
    },
    {
      "cell_type": "code",
      "source": [
        "#identity operator\n",
        "a=10\n",
        "b=5\n",
        "print(a is b)\n",
        "print(a is not b)"
      ],
      "metadata": {
        "colab": {
          "base_uri": "https://localhost:8080/"
        },
        "id": "IYHuRiEYR941",
        "outputId": "639116b3-0687-40ff-fac3-c3cae9e20705"
      },
      "execution_count": null,
      "outputs": [
        {
          "output_type": "stream",
          "name": "stdout",
          "text": [
            "False\n",
            "True\n"
          ]
        }
      ]
    },
    {
      "cell_type": "markdown",
      "source": [
        "##MEMBERSHIP OPERATOR"
      ],
      "metadata": {
        "id": "7yYDmGowB9Ch"
      }
    },
    {
      "cell_type": "code",
      "source": [
        "#membership operator\n",
        "a=10\n",
        "b=[5,10,6]\n",
        "print(a in b)\n",
        "print(a not in b)"
      ],
      "metadata": {
        "colab": {
          "base_uri": "https://localhost:8080/"
        },
        "id": "Tv3kq0GoSA2C",
        "outputId": "7503b7cd-e784-48cb-93d6-0dec303f49a2"
      },
      "execution_count": null,
      "outputs": [
        {
          "output_type": "stream",
          "name": "stdout",
          "text": [
            "True\n",
            "False\n"
          ]
        }
      ]
    },
    {
      "cell_type": "markdown",
      "source": [
        "##BITWISE OPERATOR"
      ],
      "metadata": {
        "id": "MPA1Rv2JCA5w"
      }
    },
    {
      "cell_type": "code",
      "source": [
        "#bitwise operator\n",
        "a=5\n",
        "b=4\n",
        "print(a&b)\n",
        "print(a|b)\n",
        "print(~a)\n",
        "print(a>>2) #divide 2 two time(right shift)\n",
        "print(a<<2) #multiply 2 two time(left shift)"
      ],
      "metadata": {
        "colab": {
          "base_uri": "https://localhost:8080/"
        },
        "id": "71ZEB4lPSHJz",
        "outputId": "fcb56a8c-5445-47d8-ff0f-a7751355924a"
      },
      "execution_count": null,
      "outputs": [
        {
          "output_type": "stream",
          "name": "stdout",
          "text": [
            "4\n",
            "5\n",
            "-6\n",
            "1\n",
            "20\n"
          ]
        }
      ]
    },
    {
      "cell_type": "markdown",
      "source": [
        "##MULTIPLICATION TABLE"
      ],
      "metadata": {
        "id": "fzvwf_aM05tg"
      }
    },
    {
      "cell_type": "code",
      "source": [
        "for i in range(1,11):\n",
        "  print(i,\"  x  21  =  \",i*21)"
      ],
      "metadata": {
        "colab": {
          "base_uri": "https://localhost:8080/"
        },
        "id": "7jNA72a409Io",
        "outputId": "856b2b1d-7e3b-4927-a723-9a82ca85e8f5"
      },
      "execution_count": null,
      "outputs": [
        {
          "output_type": "stream",
          "name": "stdout",
          "text": [
            "1   x  21  =   21\n",
            "2   x  21  =   42\n",
            "3   x  21  =   63\n",
            "4   x  21  =   84\n",
            "5   x  21  =   105\n",
            "6   x  21  =   126\n",
            "7   x  21  =   147\n",
            "8   x  21  =   168\n",
            "9   x  21  =   189\n",
            "10   x  21  =   210\n"
          ]
        }
      ]
    },
    {
      "cell_type": "markdown",
      "source": [
        "##Create a program to check if a student is eligible for a grade based on attendance and marks.\n",
        "\n",
        "Input: Attendance percentage and total marks\n",
        "Output:\n",
        "Print \"Eligible for Grade\" if attendance is 75% or more and marks are 40 or more.\n",
        "Print \"Not Eligible due to Attendance\" if attendance is less than 75%.\n",
        "Print \"Not Eligible due to Marks\" if attendance is sufficient but marks are less than 40"
      ],
      "metadata": {
        "id": "QZxb2AWGKixj"
      }
    },
    {
      "cell_type": "markdown",
      "source": [],
      "metadata": {
        "id": "52bYz6f6T819"
      }
    },
    {
      "cell_type": "code",
      "source": [
        "a=float(input(\"enter total marks scored:\"))\n",
        "b=float(input(\"enter attendance percentage:\"))\n",
        "if a>=40:\n",
        "  if b>=75:\n",
        "    print(\"Eligible for grade\")\n",
        "  else:\n",
        "       print(\"not eligible for grade because of low attendance\")\n",
        "else:\n",
        "    print(\"not eligible for grade because of low marks\")\n",
        "\n"
      ],
      "metadata": {
        "colab": {
          "base_uri": "https://localhost:8080/"
        },
        "id": "nkEUHMlvYsJb",
        "outputId": "beb61411-6142-4280-bd74-489e5bba79f3"
      },
      "execution_count": null,
      "outputs": [
        {
          "output_type": "stream",
          "name": "stdout",
          "text": [
            "enter total marks scored:39\n",
            "enter attendance percentage:74\n",
            "not eligible for grade because of low marks\n"
          ]
        }
      ]
    },
    {
      "cell_type": "code",
      "source": [
        "a=float(input(\"enter total marks scored:\"))\n",
        "b=float(input(\"enter attendance percentage:\"))\n",
        "if a>=40 and b>=75:\n",
        "  print(\"Eligible for grade\")\n",
        "elif a<40 and b<75:\n",
        "    print(\"not eligible for grade because of low marks and attendance\")\n",
        "elif b<75:\n",
        "    print(\"not eligible for grade because of low attendance\")\n",
        "else:\n",
        "    print(\"not eligible for grade because of low marks\")\n",
        "\n",
        "\n"
      ],
      "metadata": {
        "id": "WUnRTHN9cKXb",
        "colab": {
          "base_uri": "https://localhost:8080/"
        },
        "outputId": "32fdef99-b37a-4c57-a99f-3a8d8525a4c7"
      },
      "execution_count": null,
      "outputs": [
        {
          "output_type": "stream",
          "name": "stdout",
          "text": [
            "enter total marks scored:41\n",
            "enter attendance percentage:74\n",
            "not eligible for grade because of low attendance\n"
          ]
        }
      ]
    },
    {
      "cell_type": "markdown",
      "source": [
        "##Write a program that applies a discount based on the amount spent."
      ],
      "metadata": {
        "id": "2zrSU4rEK96Z"
      }
    },
    {
      "cell_type": "code",
      "source": [
        "pa=int(input(\"enter purchase amount\"))\n",
        "if pa<=100:\n",
        "  print(\"no discount\")\n",
        "elif pa>100 and pa<=200:\n",
        "  print(\"discount=10%-\",pa*(10/100))\n",
        "elif pa>200 and pa<=500:\n",
        "  print(\"discount=15%\",pa*(15/100))\n",
        "elif pa>500:\n",
        "  print(\"discount=20%\",pa*(20/100))\n",
        "\n"
      ],
      "metadata": {
        "colab": {
          "base_uri": "https://localhost:8080/"
        },
        "id": "uoYOv1VZKCa6",
        "outputId": "1220b9b7-242a-47a4-c02a-d7291e3fb215"
      },
      "execution_count": null,
      "outputs": [
        {
          "output_type": "stream",
          "name": "stdout",
          "text": [
            "enter purchase amount600\n",
            "discount=20% 120.0\n"
          ]
        }
      ]
    },
    {
      "cell_type": "code",
      "source": [
        "pa=int(input(\"enter purchase amount\"))\n",
        "if pa<=100:\n",
        "  print(\"no discount\")\n",
        "elif pa>100 and pa<=200:\n",
        "  print(\"discount=10%-\",pa*0.1)\n",
        "elif pa>200 and pa<=500:\n",
        "  print(\"discount=15%\",pa*0.15)\n",
        "elif pa>500:\n",
        "  print(\"discount=20%\",pa*0.2)"
      ],
      "metadata": {
        "colab": {
          "base_uri": "https://localhost:8080/"
        },
        "id": "n_ibSJwSORVk",
        "outputId": "3788e37b-eb27-4260-d50f-9bc3ef418f10"
      },
      "execution_count": null,
      "outputs": [
        {
          "output_type": "stream",
          "name": "stdout",
          "text": [
            "enter purchase amount90\n",
            "no discount\n"
          ]
        }
      ]
    },
    {
      "cell_type": "markdown",
      "source": [
        "##CALCULATOR"
      ],
      "metadata": {
        "id": "IQDYH_1hLBvu"
      }
    },
    {
      "cell_type": "code",
      "source": [
        "a=float(input(\"enter a\"))\n",
        "b=float(input(\"enter b \"))\n",
        "c=input(\"enter operator\")\n",
        "if c==\"+\":\n",
        "  print(\"a+b=\",a+b)\n",
        "elif c==\"-\":\n",
        "  print(\"a-b=\",a-b)\n",
        "elif c==\"*\":\n",
        "  print(\"a*b=\",a*b)\n",
        "elif c==\"/\":\n",
        "  print(\"a/b=\",a/b)\n",
        "elif c==\"%\":\n",
        "  print(\"a%b=\",a%b)\n",
        "elif c==\"**\":\n",
        "  print(\"a**b=\",a**b)"
      ],
      "metadata": {
        "colab": {
          "base_uri": "https://localhost:8080/"
        },
        "id": "CfwHEEdLEfJI",
        "outputId": "52923e4b-edba-46c3-aad5-082599eccfd2"
      },
      "execution_count": null,
      "outputs": [
        {
          "output_type": "stream",
          "name": "stdout",
          "text": [
            "enter a2\n",
            "enter b 3\n",
            "enter operator+\n",
            "a+b= 5.0\n"
          ]
        }
      ]
    },
    {
      "cell_type": "markdown",
      "source": [
        "##WHILE LOOP"
      ],
      "metadata": {
        "id": "YwtUnZEFCoOp"
      }
    },
    {
      "cell_type": "code",
      "source": [
        "while True:\n",
        "  a=input(\"type exit to stop=\")\n",
        "  if a.lower()==\"exit\":\n",
        "    break\n",
        "  else:\n",
        "    print(a)"
      ],
      "metadata": {
        "colab": {
          "base_uri": "https://localhost:8080/"
        },
        "id": "-YIVGgmnROnf",
        "outputId": "3bd3fde3-86dc-454b-d7bf-40a7c2a18cf2"
      },
      "execution_count": null,
      "outputs": [
        {
          "name": "stdout",
          "output_type": "stream",
          "text": [
            "type exit to stop=HELLO\n",
            "HELLO\n",
            "type exit to stop=EXIT\n"
          ]
        }
      ]
    },
    {
      "cell_type": "code",
      "source": [
        "a=[1,2,5,4,3]\n",
        "b=len(a)\n",
        "index=0\n",
        "while index<b:\n",
        "  print(a[index])\n",
        "  if a[index]==a[3]:\n",
        "    print(\"all items in list were printed\")\n",
        "    break\n",
        "  index=index+1"
      ],
      "metadata": {
        "colab": {
          "base_uri": "https://localhost:8080/"
        },
        "id": "Hg-iiqRuVptZ",
        "outputId": "2886a977-ee36-4917-c5b1-32d60435b214"
      },
      "execution_count": null,
      "outputs": [
        {
          "output_type": "stream",
          "name": "stdout",
          "text": [
            "1\n",
            "2\n",
            "5\n",
            "4\n",
            "all items in list were printed\n"
          ]
        }
      ]
    },
    {
      "cell_type": "code",
      "source": [
        "a=int(input(\"enter stop timer value\"))\n",
        "while a>0:\n",
        "  print(a)\n",
        "  a=a-1\n",
        "print(\"over\")\n"
      ],
      "metadata": {
        "colab": {
          "base_uri": "https://localhost:8080/"
        },
        "id": "0BMSUkbZXp3r",
        "outputId": "da9568a2-e205-475a-be17-778db3eb5092"
      },
      "execution_count": null,
      "outputs": [
        {
          "output_type": "stream",
          "name": "stdout",
          "text": [
            "enter stop timer value50\n",
            "50\n",
            "49\n",
            "48\n",
            "47\n",
            "46\n",
            "45\n",
            "44\n",
            "43\n",
            "42\n",
            "41\n",
            "40\n",
            "39\n",
            "38\n",
            "37\n",
            "36\n",
            "35\n",
            "34\n",
            "33\n",
            "32\n",
            "31\n",
            "30\n",
            "29\n",
            "28\n",
            "27\n",
            "26\n",
            "25\n",
            "24\n",
            "23\n",
            "22\n",
            "21\n",
            "20\n",
            "19\n",
            "18\n",
            "17\n",
            "16\n",
            "15\n",
            "14\n",
            "13\n",
            "12\n",
            "11\n",
            "10\n",
            "9\n",
            "8\n",
            "7\n",
            "6\n",
            "5\n",
            "4\n",
            "3\n",
            "2\n",
            "1\n",
            "over\n"
          ]
        }
      ]
    },
    {
      "cell_type": "code",
      "source": [
        "a=0\n",
        "b=1\n",
        "while b<=30:\n",
        "  a=a+b\n",
        "  print(a)\n",
        "  b=b+1"
      ],
      "metadata": {
        "colab": {
          "base_uri": "https://localhost:8080/"
        },
        "id": "HzhaBZ2MYfFc",
        "outputId": "c9798575-ba10-466a-a000-8bd7ecf26ac2"
      },
      "execution_count": null,
      "outputs": [
        {
          "output_type": "stream",
          "name": "stdout",
          "text": [
            "1\n",
            "3\n",
            "6\n",
            "10\n",
            "15\n",
            "21\n",
            "28\n",
            "36\n",
            "45\n",
            "55\n",
            "66\n",
            "78\n",
            "91\n",
            "105\n",
            "120\n",
            "136\n",
            "153\n",
            "171\n",
            "190\n",
            "210\n",
            "231\n",
            "253\n",
            "276\n",
            "300\n",
            "325\n",
            "351\n",
            "378\n",
            "406\n",
            "435\n",
            "465\n"
          ]
        }
      ]
    },
    {
      "cell_type": "markdown",
      "source": [
        "##USER LOGIN"
      ],
      "metadata": {
        "id": "UYVPRHnjDRiC"
      }
    },
    {
      "cell_type": "code",
      "source": [
        "n=0\n",
        "while n<=3:\n",
        "  username=input(\"enter username\")\n",
        "  password=input(\"enter password\")\n",
        "  if username==\"abc\" and password==\"123\":\n",
        "    print(\"successful\")\n",
        "    break\n",
        "  else:\n",
        "    n=n+1\n",
        "    if n>3:\n",
        "      print(\"login failed , too many attemps ,wait for 24 hours\")\n",
        "    else:\n",
        "      print(\"login failed\")\n",
        "\n",
        "\n"
      ],
      "metadata": {
        "colab": {
          "base_uri": "https://localhost:8080/"
        },
        "id": "nupgbUg9Zce-",
        "outputId": "ceddba8a-7f86-45bb-d1ed-5db0a4abfb9f"
      },
      "execution_count": null,
      "outputs": [
        {
          "output_type": "stream",
          "name": "stdout",
          "text": [
            "enter username12\n",
            "enter password21\n",
            "login failed\n",
            "enter username11\n",
            "enter password11\n",
            "login failed\n",
            "enter username112\n",
            "enter password22\n",
            "login failed\n",
            "enter username13\n",
            "enter password31\n",
            "login failed , too many attemps ,wait for 24 hours\n"
          ]
        }
      ]
    },
    {
      "cell_type": "code",
      "source": [
        "for i in range(5,10,1):\n",
        "  if i==8:\n",
        "    break\n",
        "  print(i)"
      ],
      "metadata": {
        "colab": {
          "base_uri": "https://localhost:8080/"
        },
        "id": "LoYsh7UgaqdC",
        "outputId": "4b4cb1dd-eabf-40ea-f636-0c492f62f3a9"
      },
      "execution_count": null,
      "outputs": [
        {
          "output_type": "stream",
          "name": "stdout",
          "text": [
            "5\n",
            "6\n",
            "7\n"
          ]
        }
      ]
    },
    {
      "cell_type": "markdown",
      "source": [
        "##REVERSED LIST"
      ],
      "metadata": {
        "id": "h9_XtSPcFUNj"
      }
    },
    {
      "cell_type": "code",
      "source": [
        "\n",
        "\n",
        "li1= [10,100,20,40,21]\n",
        "li2= list(reversed(li1))\n",
        "print(li2)"
      ],
      "metadata": {
        "id": "p2H5NpFmdFkG",
        "colab": {
          "base_uri": "https://localhost:8080/"
        },
        "outputId": "e8238243-a1ea-4fb0-9589-515b7f72a9b2"
      },
      "execution_count": null,
      "outputs": [
        {
          "output_type": "stream",
          "name": "stdout",
          "text": [
            "[21, 40, 20, 100, 10]\n"
          ]
        }
      ]
    },
    {
      "cell_type": "code",
      "source": [
        "a=int(input(\"enter the number\"))\n",
        "for i in range(a):\n",
        "  print (i)\n"
      ],
      "metadata": {
        "colab": {
          "base_uri": "https://localhost:8080/"
        },
        "id": "RGY6k7xqnlcs",
        "outputId": "f1dfc368-24bc-4459-c306-89f85d91a54e"
      },
      "execution_count": null,
      "outputs": [
        {
          "output_type": "stream",
          "name": "stdout",
          "text": [
            "enter the number5\n",
            "0\n",
            "1\n",
            "2\n",
            "3\n",
            "4\n"
          ]
        }
      ]
    },
    {
      "cell_type": "markdown",
      "source": [
        "##FACTORIAL"
      ],
      "metadata": {
        "id": "McZKsYqWnHVW"
      }
    },
    {
      "cell_type": "code",
      "source": [
        "a=int(input(\"enter the number\"))\n",
        "fact=1\n",
        "for i in range(1,(a+1)):\n",
        "  fact=fact*i\n",
        "  print(fact)\n",
        "\n",
        "\n"
      ],
      "metadata": {
        "colab": {
          "base_uri": "https://localhost:8080/"
        },
        "id": "Y8F5xoiF-o-a",
        "outputId": "c8e64976-1929-4eef-8fc7-7d47c02bf6ab"
      },
      "execution_count": null,
      "outputs": [
        {
          "output_type": "stream",
          "name": "stdout",
          "text": [
            "enter the number5\n",
            "1\n",
            "2\n",
            "6\n",
            "24\n",
            "120\n"
          ]
        }
      ]
    },
    {
      "cell_type": "markdown",
      "source": [
        "#PALINDROME"
      ],
      "metadata": {
        "id": "pqZNCXALnaxr"
      }
    },
    {
      "cell_type": "code",
      "source": [
        "a=input(\"enter input\")\n",
        "b=\"\"\n",
        "for i in a:\n",
        "  b=i+b\n",
        "if a==b:\n",
        "  print(\"palindrome\")\n",
        "else:\n",
        " print(\"not palindrome\")"
      ],
      "metadata": {
        "colab": {
          "base_uri": "https://localhost:8080/"
        },
        "id": "y-CmdJP3nclC",
        "outputId": "064b43fa-a6cd-4ad7-d485-bb753bcc2b03"
      },
      "execution_count": null,
      "outputs": [
        {
          "output_type": "stream",
          "name": "stdout",
          "text": [
            "enter inputRACECAR\n",
            "palindrome\n"
          ]
        }
      ]
    },
    {
      "cell_type": "code",
      "source": [
        "a=input(\"enter input\")\n",
        "b=\"\".join(reversed(a)) #reversed(a) will reverse and add comma [r,a,c,e,c,a,r]\n",
        "print(b)\n",
        "if a==b:\n",
        "  print(\"palindrome\")\n",
        "else:\n",
        "  print(\"not palindrome\")\n"
      ],
      "metadata": {
        "colab": {
          "base_uri": "https://localhost:8080/"
        },
        "id": "krJV94ZCPiu7",
        "outputId": "e08662ba-cb92-48d3-a543-47b8e496c134"
      },
      "execution_count": null,
      "outputs": [
        {
          "output_type": "stream",
          "name": "stdout",
          "text": [
            "enter inputbab\n",
            "bab\n",
            "palindrome\n"
          ]
        }
      ]
    },
    {
      "cell_type": "markdown",
      "source": [
        "##PATTERN"
      ],
      "metadata": {
        "id": "bv0q6J93tY-y"
      }
    },
    {
      "cell_type": "markdown",
      "source": [
        "##RIGHT ANGLE"
      ],
      "metadata": {
        "id": "ppZtEZFt96dI"
      }
    },
    {
      "cell_type": "code",
      "source": [
        "a=\"*\"\n",
        "for i in range(5):\n",
        "  print(a)\n",
        "  a=a+\"*\""
      ],
      "metadata": {
        "colab": {
          "base_uri": "https://localhost:8080/"
        },
        "id": "QIxsHbn4tbxi",
        "outputId": "16c8ebcd-011b-490d-e349-ab2ee41d6c58"
      },
      "execution_count": null,
      "outputs": [
        {
          "output_type": "stream",
          "name": "stdout",
          "text": [
            "*\n",
            "**\n",
            "***\n",
            "****\n",
            "*****\n"
          ]
        }
      ]
    },
    {
      "cell_type": "code",
      "source": [
        "a=input(\"enter anything\")\n",
        "b=a\n",
        "for i in range(5):\n",
        "  print(b)\n",
        "  b=b+a"
      ],
      "metadata": {
        "colab": {
          "base_uri": "https://localhost:8080/"
        },
        "id": "XpuMO5Ocuvr1",
        "outputId": "0599c212-258d-4359-e3c5-45ba8c14a886"
      },
      "execution_count": null,
      "outputs": [
        {
          "output_type": "stream",
          "name": "stdout",
          "text": [
            "enter anything1\n",
            "1\n",
            "11\n",
            "111\n",
            "1111\n",
            "11111\n"
          ]
        }
      ]
    },
    {
      "cell_type": "code",
      "source": [
        "a=\" \"\n",
        "b=input(\"enter anything\")\n",
        "for i in range(5):   #This outer loop will run 5 times. The variable i is not used in the loop body, but it controls how many times the loop executes.\n",
        "  print(a)\n",
        "  for j in range(5):\n",
        "    print(b,end=\" \") #end to print in single line\n",
        "\n",
        "    #or a=5\n",
        "    #for i in range(a):\n",
        "    #print(\"*\"*5)"
      ],
      "metadata": {
        "id": "aK3wIi5uJbEI",
        "colab": {
          "base_uri": "https://localhost:8080/"
        },
        "outputId": "ebe88f09-aad0-4ef9-9b22-172d96c901ca"
      },
      "execution_count": null,
      "outputs": [
        {
          "output_type": "stream",
          "name": "stdout",
          "text": [
            "enter anything*\n",
            " \n",
            "* * * * *  \n",
            "* * * * *  \n",
            "* * * * *  \n",
            "* * * * *  \n",
            "* * * * * "
          ]
        }
      ]
    },
    {
      "cell_type": "markdown",
      "source": [
        "##RIGHT ANGLE-RIGHT ALIGNED"
      ],
      "metadata": {
        "id": "krh17F1h-GBL"
      }
    },
    {
      "cell_type": "code",
      "source": [
        "a=5\n",
        "for i in range(a):\n",
        "  print((\" \"*(a-i)) + (i*\"*\"))"
      ],
      "metadata": {
        "colab": {
          "base_uri": "https://localhost:8080/"
        },
        "id": "s6lMuDFL5g_5",
        "outputId": "af50cfe1-f9be-4124-8905-65755def84f7"
      },
      "execution_count": null,
      "outputs": [
        {
          "output_type": "stream",
          "name": "stdout",
          "text": [
            "     \n",
            "    *\n",
            "   **\n",
            "  ***\n",
            " ****\n"
          ]
        }
      ]
    },
    {
      "cell_type": "code",
      "source": [
        "a=5\n",
        "for i in range(a):\n",
        "  print(\"*\"*5)"
      ],
      "metadata": {
        "colab": {
          "base_uri": "https://localhost:8080/"
        },
        "id": "3JixYOA5FPyH",
        "outputId": "d4f74bad-7caf-4b65-92f4-3f8b6adff3c0"
      },
      "execution_count": null,
      "outputs": [
        {
          "output_type": "stream",
          "name": "stdout",
          "text": [
            "*****\n",
            "*****\n",
            "*****\n",
            "*****\n",
            "*****\n"
          ]
        }
      ]
    },
    {
      "cell_type": "markdown",
      "source": [
        "###**DEFINING FUNCTION**"
      ],
      "metadata": {
        "id": "ZwuDY_gFGZXK"
      }
    },
    {
      "cell_type": "code",
      "source": [
        "#temperature conversion\n",
        "def celtofar(celcius):\n",
        "  print(\"fah is\",(celcius*9/5)+32)\n",
        "def fartocel(far):\n",
        "  print(\"fah is\",(far-32)*5/9)"
      ],
      "metadata": {
        "id": "wEYszTdoGBMn"
      },
      "execution_count": null,
      "outputs": []
    },
    {
      "cell_type": "code",
      "source": [
        "celtofar(100)\n",
        "fartocel(212)"
      ],
      "metadata": {
        "colab": {
          "base_uri": "https://localhost:8080/"
        },
        "id": "ZTxD1xwSHZqY",
        "outputId": "e0c701ff-be05-420e-effb-9efd1fa37fc2"
      },
      "execution_count": null,
      "outputs": [
        {
          "output_type": "stream",
          "name": "stdout",
          "text": [
            "fah is 212.0\n",
            "fah is 100.0\n"
          ]
        }
      ]
    },
    {
      "cell_type": "code",
      "source": [
        "#arithematic calculation\n",
        "\n",
        "def calculator(a,b,c):\n",
        "  print(\"addition\",a+b+c)\n",
        "  print(\"sub\",a-b-c)\n",
        "  print(\"mul\",a*b*c)\n",
        "  if a!=0 and b!=0 and c!=0:\n",
        "    print(\"div\",a/b/c)\n",
        "  else:\n",
        "    print(\"wrong input\")\n"
      ],
      "metadata": {
        "id": "ZJ-4bAgCHeO3"
      },
      "execution_count": null,
      "outputs": []
    },
    {
      "cell_type": "code",
      "source": [
        "calculator(100,50,0)"
      ],
      "metadata": {
        "colab": {
          "base_uri": "https://localhost:8080/"
        },
        "id": "yPZBhu58IwPE",
        "outputId": "a43fa327-8f84-4b51-d1ba-bc17712e2117"
      },
      "execution_count": null,
      "outputs": [
        {
          "output_type": "stream",
          "name": "stdout",
          "text": [
            "addition 150\n",
            "sub 50\n",
            "mul 0\n",
            "wrong input\n"
          ]
        }
      ]
    },
    {
      "cell_type": "markdown",
      "source": [
        "##NESTED FUNCTION"
      ],
      "metadata": {
        "id": "3Pesy-PlKOt8"
      }
    },
    {
      "cell_type": "code",
      "source": [
        "def bankaccount():\n",
        "  balance=5000\n",
        "  def deposit():\n",
        "    amount=int(input(\"enter deposit amount \\n\"))\n",
        "    nonlocal balance\n",
        "    balance=balance+amount\n",
        "    print(f\"successfully deposited \\nur balance is : {balance}\")\n",
        "         #string format or f string\n",
        "  def withdraw():\n",
        "    nonlocal balance\n",
        "    amount=int(input(\"enter withdraw amount\"))\n",
        "    if balance>amount:\n",
        "      balance=balance-amount\n",
        "      print(f\"successfully debited {amount} \\nur balance is : {balance}\")\n",
        "    else:\n",
        "      print(\"insufficient funds\")\n",
        "  deposit()\n",
        "  withdraw()"
      ],
      "metadata": {
        "id": "j_AkCOx_KNSX"
      },
      "execution_count": null,
      "outputs": []
    },
    {
      "cell_type": "code",
      "source": [
        "bankaccount()"
      ],
      "metadata": {
        "colab": {
          "base_uri": "https://localhost:8080/"
        },
        "id": "n6aO5Xz2LTBa",
        "outputId": "0e20bd58-8882-45b0-f6b8-34b06d01403f"
      },
      "execution_count": null,
      "outputs": [
        {
          "output_type": "stream",
          "name": "stdout",
          "text": [
            "enter deposit amount \n",
            "10000\n",
            "successfully deposited \n",
            "ur balance is : 15000\n",
            "enter withdraw amount200000\n",
            "insufficient funds\n"
          ]
        }
      ]
    },
    {
      "cell_type": "markdown",
      "source": [
        "##ARGUMENTS AND PARAMETERS\n",
        "\n",
        "1. Positional Arguments:\n",
        "What they are: Positional arguments are the most common type of arguments in Python. When you call a function, you pass values to the parameters of the function in the same order as they are defined in the function.\n",
        "\n",
        "   How they work: The function assigns the values to the parameters based on their position\n",
        "\n",
        "2. Default Arguments:\n",
        "What they are: Default arguments are parameters that have a default value assigned in the function definition. If the caller does not provide a value for that argument, the default value is used.\n",
        "\n",
        "   How they work: You can set a default value for one or more parameters, so you don't have to provide them every time you call the function\n",
        "\n",
        "3. Keyword Arguments:\n",
        "What they are: Keyword arguments are arguments passed to the function by explicitly specifying the parameter name in the function call. This makes the order of arguments flexible.\n",
        "\n",
        "   How they work: You pass the argument values with the name of the\n",
        "\n",
        "   parameter explicitly.\n",
        "\n",
        "4. Arbitrary Number of Arguments (*args):\n",
        "What it is: Sometimes, you may not know how many arguments you want to pass to a function. In these cases, you can use *args, which allows you to pass an arbitrary number of positional arguments to a function. These arguments will be collected into a tuple.\n",
        "\n",
        "5. Arbitrary Keyword Arguments (**kwargs):\n",
        "What it is: If you want to pass an arbitrary number of keyword arguments (i.e., key-value pairs) to a function, you can use **kwargs. These arguments will be collected into a dictionary.\n"
      ],
      "metadata": {
        "id": "D4W5tM_rUCrC"
      }
    },
    {
      "cell_type": "code",
      "source": [
        "#SIMPLE HOTEL BOOKING USING KEYWORD ,POSITIONAL ARGUMENT AND DEFAULT ARGUMENT\n",
        "\n",
        "def hotel(name,id_type,id_number,nights,room_type,no_person,pickup=\"NO\",breakfast=\"NO\"):\n",
        "  print(f\"BOOkING for\\t-\\t{name}\")\n",
        "  print(f\"ID type \\t-\\t{id_type}\")\n",
        "  print(f\"ID NUMBER\\t-\\t{id_number}\")\n",
        "  print(f\"NO OF NIGHTS\\t-\\t{nights}\")\n",
        "  print(f\"ROOM TYPE\\t-\\t{room_type}\")\n",
        "  print(f\"PICKUP\\t\\t-\\t{pickup}\")\n",
        "  print(f\"BREAK FAST\\t-\\t{breakfast}\")\n",
        "  if no_person>3:\n",
        "    print(\"only 3 person per room allowed\")\n",
        "  else:\n",
        "    print(\"no of persons\\t-\\t{}\".format(no_person))    #same as f string (just for my notes) ( {}-place holder )\n"
      ],
      "metadata": {
        "id": "osU3gTNbLzCW"
      },
      "execution_count": null,
      "outputs": []
    },
    {
      "cell_type": "code",
      "source": [
        "hotel(\"PRAHAASH\",\"AADHAAR\",7056,2,\"STANDARD\",3)\n",
        "print(\"\\n\\n\")\n",
        "hotel(\"PRAHAASH\",\"AADHAAR\",7056,2,\"STANDARD\",3,pickup=\"YES\")\n",
        "print(\"\\n\\n\")\n",
        "hotel(\"PRAHAASH\",\"AADHAAR\",7056,2,\"STANDARD\",3,pickup=\"YES\",breakfast=\"MAYBE\")\n",
        "print(\"\\n\\n\")\n",
        "hotel(\"PRAHAASH\",\"AADHAAR\",7056,2,\"STANDARD\",4,pickup=\"YES\",breakfast=\"MAYBE\")"
      ],
      "metadata": {
        "colab": {
          "base_uri": "https://localhost:8080/"
        },
        "id": "Qlg-zTEqYwYW",
        "outputId": "356d2e30-11c6-476f-c132-f460c63618c2"
      },
      "execution_count": null,
      "outputs": [
        {
          "output_type": "stream",
          "name": "stdout",
          "text": [
            "BOOkING for\t-\tPRAHAASH\n",
            "ID type \t-\tAADHAAR\n",
            "ID NUMBER\t-\t7056\n",
            "NO OF NIGHTS\t-\t2\n",
            "ROOM TYPE\t-\tSTANDARD\n",
            "PICKUP\t\t-\tNO\n",
            "BREAK FAST\t-\tNO\n",
            "no of persons\t-\t3\n",
            "\n",
            "\n",
            "\n",
            "BOOkING for\t-\tPRAHAASH\n",
            "ID type \t-\tAADHAAR\n",
            "ID NUMBER\t-\t7056\n",
            "NO OF NIGHTS\t-\t2\n",
            "ROOM TYPE\t-\tSTANDARD\n",
            "PICKUP\t\t-\tYES\n",
            "BREAK FAST\t-\tNO\n",
            "no of persons\t-\t3\n",
            "\n",
            "\n",
            "\n",
            "BOOkING for\t-\tPRAHAASH\n",
            "ID type \t-\tAADHAAR\n",
            "ID NUMBER\t-\t7056\n",
            "NO OF NIGHTS\t-\t2\n",
            "ROOM TYPE\t-\tSTANDARD\n",
            "PICKUP\t\t-\tYES\n",
            "BREAK FAST\t-\tMAYBE\n",
            "no of persons\t-\t3\n",
            "\n",
            "\n",
            "\n",
            "BOOkING for\t-\tPRAHAASH\n",
            "ID type \t-\tAADHAAR\n",
            "ID NUMBER\t-\t7056\n",
            "NO OF NIGHTS\t-\t2\n",
            "ROOM TYPE\t-\tSTANDARD\n",
            "PICKUP\t\t-\tYES\n",
            "BREAK FAST\t-\tMAYBE\n",
            "only 3 person per room allowed\n"
          ]
        }
      ]
    },
    {
      "cell_type": "code",
      "source": [
        "#ARBITARY\n",
        "import operator\n",
        "from functools import reduce\n",
        "def cal():\n",
        "  def calculator(*args):\n",
        "    add=sum(args)\n",
        "    sub=reduce(operator.sub,args)\n",
        "    mul=reduce(operator.mul,args)\n",
        "    return add,sub,mul\n",
        "  return calculator(10,20,20,30,100)\n"
      ],
      "metadata": {
        "id": "-mueBoFovsS0"
      },
      "execution_count": null,
      "outputs": []
    },
    {
      "cell_type": "code",
      "source": [
        "a=cal()\n",
        "print(\"add,sub,mul\\t=\\t\",a)"
      ],
      "metadata": {
        "colab": {
          "base_uri": "https://localhost:8080/"
        },
        "id": "jJHkB6-Nx1bd",
        "outputId": "15f4ea14-e88d-41fd-e624-75d7ee7a562a"
      },
      "execution_count": null,
      "outputs": [
        {
          "output_type": "stream",
          "name": "stdout",
          "text": [
            "add,sub,mul\t=\t (180, -160, 12000000)\n"
          ]
        }
      ]
    },
    {
      "cell_type": "markdown",
      "source": [
        "##Arbitrary Keyword Arguments (*kwargs)"
      ],
      "metadata": {
        "id": "GwjXosZ_3PzW"
      }
    },
    {
      "cell_type": "code",
      "source": [
        "def userprofile(username, **kwargs):  #username is must ,so i used it seperately\n",
        "  profile={'username':username}\n",
        "  profile.update(kwargs)\n",
        "  return profile"
      ],
      "metadata": {
        "id": "i5GY8QBk3TQa"
      },
      "execution_count": null,
      "outputs": []
    },
    {
      "cell_type": "code",
      "source": [
        "userprofile('prahaash',age=29,blood_group='o+ve',qualification='be',empty='empty')   #while passing arguements you should use =,,,in output it will show as :"
      ],
      "metadata": {
        "colab": {
          "base_uri": "https://localhost:8080/"
        },
        "id": "ftmiK_9I5E3c",
        "outputId": "7ebb249c-a9a7-4aa2-d523-c0ad44c92fa5"
      },
      "execution_count": null,
      "outputs": [
        {
          "output_type": "execute_result",
          "data": {
            "text/plain": [
              "{'username': 'prahaash',\n",
              " 'age': 29,\n",
              " 'blood_group': 'o+ve',\n",
              " 'qualification': 'be',\n",
              " 'empty': 'empty'}"
            ]
          },
          "metadata": {},
          "execution_count": 181
        }
      ]
    },
    {
      "cell_type": "markdown",
      "source": [
        "## TASK (12-11-2024)\n",
        "1.Write a function called calculator that defines two inner functions: add and multiply.\n",
        "add(a, b) should return the sum of a and b.\n",
        "multiply(a, b) should return the product of a and b.\n",
        "\n"
      ],
      "metadata": {
        "id": "8EQoYhUxcvN9"
      }
    },
    {
      "cell_type": "code",
      "source": [
        "\"\"\"def calculator():\n",
        "  def add(a,b,c):\n",
        "    print(f\"add\\t=\\t\",a+b+c)\n",
        "  def sub(a,b,c):\n",
        "    print(\"sub\\t=\\t\",a-b-c)\n",
        "  def mul(a,b,c):\n",
        "    print(\"mul\\t=\\t\",a*b*c)\n",
        "  def div(a,b,c):\n",
        "    if a!=0 and b!=0 and c!=0:\n",
        "      print(\"div\\t=\\t\",(a/b)/c)\n",
        "    else:\n",
        "      print(\"wrong input\")\n",
        "  add(100,40,5)\n",
        "  sub(100,40,5)\n",
        "  mul(100,40,5)\n",
        "  div(100,40,5)\"\"\"\n",
        "\n",
        "def calculator():\n",
        "  def add(a,b):\n",
        "    print(f\"add\\t=\\t\",a+b)\n",
        "  def sub(a,b):\n",
        "    print(\"sub\\t=\\t\",a-b)\n",
        "  def mul(a,b,):\n",
        "    print(\"mul\\t=\\t\",a*b)\n",
        "  def div(a,b,):\n",
        "    if b!=0:\n",
        "      print(\"div\\t=\\t\",(a/b))\n",
        "    else:\n",
        "      print(\"wrong input\")\n",
        "  add(100,40)\n",
        "  sub(100,40)\n",
        "  mul(100,40)\n",
        "  div(100,40)\n",
        "\n",
        "\n",
        "\n"
      ],
      "metadata": {
        "id": "vBiWVv0LctWI"
      },
      "execution_count": null,
      "outputs": []
    },
    {
      "cell_type": "code",
      "source": [
        "calculator()"
      ],
      "metadata": {
        "colab": {
          "base_uri": "https://localhost:8080/"
        },
        "id": "khF1VRBcef8K",
        "outputId": "126ef3c6-2435-44dd-d7d3-a3d35a4545a2"
      },
      "execution_count": null,
      "outputs": [
        {
          "output_type": "stream",
          "name": "stdout",
          "text": [
            "add\t=\t 140\n",
            "sub\t=\t 60\n",
            "mul\t=\t 4000\n",
            "div\t=\t 2.5\n"
          ]
        }
      ]
    },
    {
      "cell_type": "markdown",
      "source": [
        "##2.Write a function outer_function that:\n",
        "\n",
        "Takes one argument, x.\n",
        "Defines an inner function inner_function inside it that squares the value of x.\n",
        "The outer_function should return the result from inner_function."
      ],
      "metadata": {
        "id": "GQCT7ks8ex2T"
      }
    },
    {
      "cell_type": "code",
      "source": [
        "def sqr(x):\n",
        "  def inner():\n",
        "    print(f\"the square of {x} is\\t=\\t\",x**2)\n",
        "  inner()\n"
      ],
      "metadata": {
        "id": "4ImQJEDxe1Dc"
      },
      "execution_count": null,
      "outputs": []
    },
    {
      "cell_type": "code",
      "source": [
        "sqr(5)"
      ],
      "metadata": {
        "colab": {
          "base_uri": "https://localhost:8080/"
        },
        "id": "aZHijHzof-a1",
        "outputId": "7476cbbf-7211-440e-f49d-ef51ec3a128b"
      },
      "execution_count": null,
      "outputs": [
        {
          "output_type": "stream",
          "name": "stdout",
          "text": [
            "the square of 5 is\t=\t 25\n"
          ]
        }
      ]
    },
    {
      "cell_type": "markdown",
      "source": [
        "##3.Write a function called calculator. The calculator function should:\n",
        "Take two arguments, a and b.\n",
        "Return a tuple containing the result of add(a, b) and multiply(a, b)"
      ],
      "metadata": {
        "id": "dlNztqGchB0O"
      }
    },
    {
      "cell_type": "code",
      "source": [
        "def calculator():\n",
        "  def add(a,b,c):\n",
        "    ad=a+b+c\n",
        "    print(f\"add\\t=\\t\",ad)\n",
        "    return ad\n",
        "  def sub(a,b,c):\n",
        "    su=a-b-c\n",
        "    print(\"sub\\t=\\t\",su)\n",
        "    return su\n",
        "  def mul(a,b,c):\n",
        "    mu=a*b*c\n",
        "    print(\"mul\\t=\\t\",mu)\n",
        "    return mu\n",
        "  return add(100,40,5), sub(100,40,5), mul(100,40,5)\n"
      ],
      "metadata": {
        "id": "S84WRvnjgBw5"
      },
      "execution_count": null,
      "outputs": []
    },
    {
      "cell_type": "code",
      "source": [
        "tupleresult=tuple(calculator())\n",
        "list1=list(calculator())\n",
        "print(\"combined result in tuple\\t=\\t\",tupleresult)\n",
        "print(\"\\ncombained result in list\\t=\\t\",list1)\n"
      ],
      "metadata": {
        "colab": {
          "base_uri": "https://localhost:8080/"
        },
        "id": "5Hy-yqshhzS-",
        "outputId": "6e142da2-f795-4f48-86e6-31ac02cf7839"
      },
      "execution_count": null,
      "outputs": [
        {
          "output_type": "stream",
          "name": "stdout",
          "text": [
            "add\t=\t 145\n",
            "sub\t=\t 55\n",
            "mul\t=\t 20000\n",
            "add\t=\t 145\n",
            "sub\t=\t 55\n",
            "mul\t=\t 20000\n",
            "combined result in tuple\t=\t (145, 55, 20000)\n",
            "\n",
            "combained result in list\t=\t [145, 55, 20000]\n"
          ]
        }
      ]
    },
    {
      "cell_type": "code",
      "source": [
        "\n",
        "tupleresult = tuple(calculator())\n",
        "list1 = list(calculator())\n",
        "\n",
        "#each element in tuple as key and each in list as value\n",
        "combined_dict = dict(zip(tupleresult, list1))\n",
        "\n",
        "print(\"Combined result in dictionary =\\t\", combined_dict)\n"
      ],
      "metadata": {
        "colab": {
          "base_uri": "https://localhost:8080/"
        },
        "id": "l_xA5jCCpeX-",
        "outputId": "889a1e42-12c5-4b31-8e16-45344cda60d6"
      },
      "execution_count": null,
      "outputs": [
        {
          "output_type": "stream",
          "name": "stdout",
          "text": [
            "add\t=\t 145\n",
            "sub\t=\t 55\n",
            "mul\t=\t 20000\n",
            "add\t=\t 145\n",
            "sub\t=\t 55\n",
            "mul\t=\t 20000\n",
            "Combined result in dictionary =\t {145: 145, 55: 55, 20000: 20000}\n"
          ]
        }
      ]
    },
    {
      "cell_type": "markdown",
      "source": [
        "#LIST\n",
        "1.ORDERED\n",
        "2.MUTABLE\n",
        "3.ALLOWS DUPLICATES\n",
        "4.CAN ACCESSED BY INDEX\n",
        "5.ITERATES IN INSERTION\n",
        "\n",
        "\n",
        "#↘ LIST METHODS"
      ],
      "metadata": {
        "id": "GQ7nO04v2j_O"
      }
    },
    {
      "cell_type": "code",
      "source": [
        "#append extend insert\n",
        "li1=[]\n",
        "li2=[]\n",
        "li1.append(5)\n",
        "print(\"append  take only one arguement \",li1)\n",
        "li1.append([3,5])\n",
        "print(\"if we give more than one makes list into list\",li1)\n",
        "li1.extend([5,6,7,10,12,13,7])\n",
        "print(\"with extend we can give multiple items to list  \",li1)\n",
        "li1.insert(1,8)                                      #li.insert(index,item)\n",
        "print(\"in index no 1 it will add 8\",li1)"
      ],
      "metadata": {
        "colab": {
          "base_uri": "https://localhost:8080/"
        },
        "id": "_qbwgnIG2qvp",
        "outputId": "5bd70061-6363-40de-f5d9-524fa448bad4"
      },
      "execution_count": null,
      "outputs": [
        {
          "output_type": "stream",
          "name": "stdout",
          "text": [
            "append  take only one arguement  [5]\n",
            "if we give more than one makes list into list [5, [3, 5]]\n",
            "with extend we can give multiple items to list   [5, [3, 5], 5, 6, 7, 10, 12, 13, 7]\n",
            "in index no 1 it will add 8 [5, 8, [3, 5], 5, 6, 7, 10, 12, 13, 7]\n"
          ]
        }
      ]
    },
    {
      "cell_type": "code",
      "source": [
        "#remove(item)\n",
        "li1.remove(5) #Removes the first occurrence of a specified item from the list.\n",
        "print(li1)"
      ],
      "metadata": {
        "colab": {
          "base_uri": "https://localhost:8080/"
        },
        "id": "Gg_WCHBd5cAT",
        "outputId": "048e85a0-8c5d-4fce-ed0c-2d3c298b8acf"
      },
      "execution_count": null,
      "outputs": [
        {
          "output_type": "stream",
          "name": "stdout",
          "text": [
            "[8, [3, 5], 5, 6, 7, 10, 12, 13, 7]\n"
          ]
        }
      ]
    },
    {
      "cell_type": "code",
      "source": [
        "#pop\n",
        "li1.pop(1)     #pop(index) removes the item for given index\n",
        "print(li1)"
      ],
      "metadata": {
        "colab": {
          "base_uri": "https://localhost:8080/"
        },
        "id": "vv0PkW0u6XDk",
        "outputId": "ff98f092-11fe-4bfe-d0bb-6d1f1e442615"
      },
      "execution_count": null,
      "outputs": [
        {
          "output_type": "stream",
          "name": "stdout",
          "text": [
            "[8, 5, 6, 7, 10, 12, 13, 7]\n"
          ]
        }
      ]
    },
    {
      "cell_type": "code",
      "source": [
        "#clear\n",
        "li1.clear()       #removes all item from the list and give empty list\n",
        "print(li1)"
      ],
      "metadata": {
        "colab": {
          "base_uri": "https://localhost:8080/"
        },
        "id": "qaKa9SuT6v4N",
        "outputId": "eca80420-ec2b-41fe-8684-f4e4a2711bf6"
      },
      "execution_count": null,
      "outputs": [
        {
          "output_type": "stream",
          "name": "stdout",
          "text": [
            "[]\n"
          ]
        }
      ]
    },
    {
      "cell_type": "code",
      "source": [
        "#delete      it delete the whole list\n",
        "del li1\n",
        "print(li1)"
      ],
      "metadata": {
        "colab": {
          "base_uri": "https://localhost:8080/",
          "height": 176
        },
        "id": "Tw6tUW1J7Ap1",
        "outputId": "c334dce7-91d0-499d-85a8-c0e9ec5f72b1"
      },
      "execution_count": null,
      "outputs": [
        {
          "output_type": "error",
          "ename": "NameError",
          "evalue": "name 'li1' is not defined",
          "traceback": [
            "\u001b[0;31m---------------------------------------------------------------------------\u001b[0m",
            "\u001b[0;31mNameError\u001b[0m                                 Traceback (most recent call last)",
            "\u001b[0;32m<ipython-input-23-13faeeae1a1f>\u001b[0m in \u001b[0;36m<cell line: 2>\u001b[0;34m()\u001b[0m\n\u001b[1;32m      1\u001b[0m \u001b[0;31m#delete      it delete the whole list\u001b[0m\u001b[0;34m\u001b[0m\u001b[0;34m\u001b[0m\u001b[0m\n\u001b[0;32m----> 2\u001b[0;31m \u001b[0;32mdel\u001b[0m \u001b[0mli1\u001b[0m\u001b[0;34m\u001b[0m\u001b[0;34m\u001b[0m\u001b[0m\n\u001b[0m\u001b[1;32m      3\u001b[0m \u001b[0mprint\u001b[0m\u001b[0;34m(\u001b[0m\u001b[0mli1\u001b[0m\u001b[0;34m)\u001b[0m\u001b[0;34m\u001b[0m\u001b[0;34m\u001b[0m\u001b[0m\n",
            "\u001b[0;31mNameError\u001b[0m: name 'li1' is not defined"
          ]
        }
      ]
    },
    {
      "cell_type": "code",
      "source": [
        "li1=[]\n",
        "li2=[]\n",
        "li1.append(5)\n",
        "print(\"append  take only one arguement \",li1)\n",
        "li1.append([3,5])\n",
        "print(\"if we give more than one makes list into list\",li1)\n",
        "li1.extend([5,6,7,10,12,13,7])\n",
        "print(\"with extend we can give multiple items to list  \",li1)\n",
        "li1.insert(1,8)                                      #li.insert(index,item)\n",
        "print(\"in index no 1 it will add 8\",li1)"
      ],
      "metadata": {
        "colab": {
          "base_uri": "https://localhost:8080/"
        },
        "id": "qBjAPM1y7NlC",
        "outputId": "f534f618-7eb5-4d72-9bd9-dd8fe143406a"
      },
      "execution_count": null,
      "outputs": [
        {
          "output_type": "stream",
          "name": "stdout",
          "text": [
            "append  take only one arguement  [5]\n",
            "if we give more than one makes list into list [5, [3, 5]]\n",
            "with extend we can give multiple items to list   [5, [3, 5], 5, 6, 7, 10, 12, 13, 7]\n",
            "in index no 1 it will add 8 [5, 8, [3, 5], 5, 6, 7, 10, 12, 13, 7]\n"
          ]
        }
      ]
    },
    {
      "cell_type": "code",
      "source": [
        "# reverse , sort\n",
        "li1.reverse()\n",
        "print(li1)\n",
        "li1.sort()    #note : list into list won't sopport sort, it supports only int data type\n",
        "print(li1)\n"
      ],
      "metadata": {
        "colab": {
          "base_uri": "https://localhost:8080/",
          "height": 211
        },
        "id": "NwZqO-Zv7OwK",
        "outputId": "3c0c1f9a-e22c-460a-e9bc-de1e4590e378"
      },
      "execution_count": null,
      "outputs": [
        {
          "output_type": "stream",
          "name": "stdout",
          "text": [
            "[5, 8, [3, 5], 5, 6, 7, 10, 12, 13, 7]\n"
          ]
        },
        {
          "output_type": "error",
          "ename": "TypeError",
          "evalue": "'<' not supported between instances of 'list' and 'int'",
          "traceback": [
            "\u001b[0;31m---------------------------------------------------------------------------\u001b[0m",
            "\u001b[0;31mTypeError\u001b[0m                                 Traceback (most recent call last)",
            "\u001b[0;32m<ipython-input-26-871809d3a8b6>\u001b[0m in \u001b[0;36m<cell line: 4>\u001b[0;34m()\u001b[0m\n\u001b[1;32m      2\u001b[0m \u001b[0mli1\u001b[0m\u001b[0;34m.\u001b[0m\u001b[0mreverse\u001b[0m\u001b[0;34m(\u001b[0m\u001b[0;34m)\u001b[0m\u001b[0;34m\u001b[0m\u001b[0;34m\u001b[0m\u001b[0m\n\u001b[1;32m      3\u001b[0m \u001b[0mprint\u001b[0m\u001b[0;34m(\u001b[0m\u001b[0mli1\u001b[0m\u001b[0;34m)\u001b[0m\u001b[0;34m\u001b[0m\u001b[0;34m\u001b[0m\u001b[0m\n\u001b[0;32m----> 4\u001b[0;31m \u001b[0mli1\u001b[0m\u001b[0;34m.\u001b[0m\u001b[0msort\u001b[0m\u001b[0;34m(\u001b[0m\u001b[0;34m)\u001b[0m\u001b[0;34m\u001b[0m\u001b[0;34m\u001b[0m\u001b[0m\n\u001b[0m\u001b[1;32m      5\u001b[0m \u001b[0mprint\u001b[0m\u001b[0;34m(\u001b[0m\u001b[0mli1\u001b[0m\u001b[0;34m)\u001b[0m\u001b[0;34m\u001b[0m\u001b[0;34m\u001b[0m\u001b[0m\n",
            "\u001b[0;31mTypeError\u001b[0m: '<' not supported between instances of 'list' and 'int'"
          ]
        }
      ]
    },
    {
      "cell_type": "code",
      "source": [
        "# index(item) , copy()\n",
        "li1.index(13)  #shows index of 13\n",
        "print(li1)\n",
        "li3=li1.copy()\n",
        "li3"
      ],
      "metadata": {
        "colab": {
          "base_uri": "https://localhost:8080/",
          "height": 211
        },
        "id": "-aOt3Vhu8KQr",
        "outputId": "2e998f9b-b098-480c-9786-6dd824e2eb94"
      },
      "execution_count": null,
      "outputs": [
        {
          "output_type": "error",
          "ename": "NameError",
          "evalue": "name 'li1' is not defined",
          "traceback": [
            "\u001b[0;31m---------------------------------------------------------------------------\u001b[0m",
            "\u001b[0;31mNameError\u001b[0m                                 Traceback (most recent call last)",
            "\u001b[0;32m<ipython-input-1-cfccc4098422>\u001b[0m in \u001b[0;36m<cell line: 2>\u001b[0;34m()\u001b[0m\n\u001b[1;32m      1\u001b[0m \u001b[0;31m# index(item) , copy()\u001b[0m\u001b[0;34m\u001b[0m\u001b[0;34m\u001b[0m\u001b[0m\n\u001b[0;32m----> 2\u001b[0;31m \u001b[0mli1\u001b[0m\u001b[0;34m.\u001b[0m\u001b[0mindex\u001b[0m\u001b[0;34m(\u001b[0m\u001b[0;36m13\u001b[0m\u001b[0;34m)\u001b[0m  \u001b[0;31m#shows index of 13\u001b[0m\u001b[0;34m\u001b[0m\u001b[0;34m\u001b[0m\u001b[0m\n\u001b[0m\u001b[1;32m      3\u001b[0m \u001b[0mprint\u001b[0m\u001b[0;34m(\u001b[0m\u001b[0mli1\u001b[0m\u001b[0;34m)\u001b[0m\u001b[0;34m\u001b[0m\u001b[0;34m\u001b[0m\u001b[0m\n\u001b[1;32m      4\u001b[0m \u001b[0mli3\u001b[0m\u001b[0;34m=\u001b[0m\u001b[0mli1\u001b[0m\u001b[0;34m.\u001b[0m\u001b[0mcopy\u001b[0m\u001b[0;34m(\u001b[0m\u001b[0;34m)\u001b[0m\u001b[0;34m\u001b[0m\u001b[0;34m\u001b[0m\u001b[0m\n\u001b[1;32m      5\u001b[0m \u001b[0mli3\u001b[0m\u001b[0;34m\u001b[0m\u001b[0;34m\u001b[0m\u001b[0m\n",
            "\u001b[0;31mNameError\u001b[0m: name 'li1' is not defined"
          ]
        }
      ]
    },
    {
      "cell_type": "code",
      "source": [],
      "metadata": {
        "colab": {
          "base_uri": "https://localhost:8080/"
        },
        "id": "NwF_wG3gT56-",
        "outputId": "abe2469b-0cdf-465d-d45b-8cdfbc6e8d74"
      },
      "execution_count": null,
      "outputs": [
        {
          "output_type": "stream",
          "name": "stdout",
          "text": [
            "enter string:\tracecar\n",
            "yes\n"
          ]
        }
      ]
    },
    {
      "cell_type": "markdown",
      "source": [
        "#SET\n",
        "##unordered\n",
        "##mutable\n",
        "##wont aloow duplicates\n",
        "##cant accessed by index\n"
      ],
      "metadata": {
        "id": "0isjYpt9PZrO"
      }
    },
    {
      "cell_type": "code",
      "source": [
        "set1={1,2,3,4,5,6,7,8}\n",
        "print(set1)\n",
        "\n",
        "#to create a empty set\n",
        "emptyset=set()\n",
        "\n",
        "#adds single element\n",
        "emptyset.add(100)\n",
        "print(emptyset)\n",
        "\n",
        "#adds multiple element\n",
        "emptyset.update({70,8,9}) #we can use [],() brackets also\n",
        "print (emptyset)\n",
        "\n",
        "#remove , removes element and error comes if element not found\n",
        "set1.remove(4)\n",
        "print(set1)\n",
        "\n",
        "#discard , removes element and error wont comes if element not found\n",
        "set1.discard(100)\n",
        "print(set1)\n",
        "\n",
        "#The pop() method is used with a set to remove and return a random element from the set.\n",
        "print(set1.pop())\n",
        "set1.pop()\n",
        "\n",
        "# Clearing all elements from a set\n",
        "set1.clear()\n",
        "print(set1)\n",
        "#..................................................\n",
        "a={20,30,40,50,60}\n",
        "b={40,50,60,70,80}\n",
        "\n",
        "#union  merge all unique elements\n",
        "c=a.union(b)\n",
        "print(c)\n",
        "\n",
        "#intersection lements common to both sets\n",
        "c=a.intersection(b)\n",
        "print(c)\n",
        "\n",
        "#differece = elements in set_a but not in set_b\n",
        "d=a.difference(b)\n",
        "print(d)\n",
        "\n",
        "#symmatric difference ,, elements that are in either a or b , but not in both\n",
        "d=a.symmetric_difference(b)\n",
        "print(d)\n",
        "\n",
        "#membership operator\n",
        "d=40 in a\n",
        "e=20 in b\n",
        "print(d,e)\n",
        "\n",
        "\n"
      ],
      "metadata": {
        "colab": {
          "base_uri": "https://localhost:8080/"
        },
        "id": "lZ7ogka0PekQ",
        "outputId": "0a4f1eb1-cafb-4ee0-caa9-212d8d4dc41e"
      },
      "execution_count": null,
      "outputs": [
        {
          "output_type": "stream",
          "name": "stdout",
          "text": [
            "{1, 2, 3, 4, 5, 6, 7, 8}\n",
            "{100}\n",
            "{8, 9, 100, 70}\n",
            "{1, 2, 3, 5, 6, 7, 8}\n",
            "{1, 2, 3, 5, 6, 7, 8}\n",
            "1\n",
            "set()\n",
            "{70, 40, 80, 50, 20, 60, 30}\n",
            "{40, 50, 60}\n",
            "{20, 30}\n",
            "{80, 20, 70, 30}\n",
            "True False\n"
          ]
        }
      ]
    },
    {
      "cell_type": "code",
      "source": [
        "#set comparisions\n",
        "a={20,30,40,50,60}\n",
        "b={40,50,60,70,80}\n",
        "a1={1,2,3,4,5,6}\n",
        "b1={6,5,4,3,2,1}\n",
        "\n",
        "#issub,issuper set\n",
        "d=a.issubset(b)  #This checks if all elements of set a are also in set b.\n",
        "e=a.issuperset(b)   #This checks if all elements of set b are also in set a.\n",
        "print(d,e)\n",
        "\n",
        "d=a1.issubset(b1)  #This checks if all elements of set a are also in set b.\n",
        "e=a1.issuperset(b1)   #This checks if all elements of set b are also in set a.\n",
        "print(d,e)\n",
        "\n",
        "#isdisjoint\n",
        "\n",
        "#if sets have no elements in common\n",
        "a1={1,2,3,4,5,6}\n",
        "b1={60,50,40,30,20,10}\n",
        "d=a1.isdisjoint(b1)\n",
        "print(d)\n",
        "\n",
        "a1={1,2,3,4,5,6}\n",
        "b1={6,5,4,3,2,1}\n",
        "d=a1.isdisjoint(b1)\n",
        "print(d)\n"
      ],
      "metadata": {
        "colab": {
          "base_uri": "https://localhost:8080/"
        },
        "id": "HQLnfPR2PlgB",
        "outputId": "387a0e60-3462-47d5-d50c-967db95cda4f"
      },
      "execution_count": null,
      "outputs": [
        {
          "output_type": "stream",
          "name": "stdout",
          "text": [
            "False False\n",
            "True True\n",
            "True\n",
            "False\n"
          ]
        }
      ]
    },
    {
      "cell_type": "code",
      "source": [
        "# Convert set to a list or tuple\n",
        "b1={60,50,40,30,20,10}\n",
        "a1=list(b1)\n",
        "print(a1)\n",
        "a1=tuple(b1)\n",
        "print(a1)"
      ],
      "metadata": {
        "colab": {
          "base_uri": "https://localhost:8080/"
        },
        "id": "cPolXe3iPrRO",
        "outputId": "f8d51bc0-3e73-4883-ca6f-274b3c70c810"
      },
      "execution_count": null,
      "outputs": [
        {
          "output_type": "stream",
          "name": "stdout",
          "text": [
            "[50, 20, 40, 10, 60, 30]\n",
            "(50, 20, 40, 10, 60, 30)\n"
          ]
        }
      ]
    },
    {
      "cell_type": "code",
      "source": [
        "#creating set using for loop\n",
        "a={i**2 for i in range(10)}\n",
        "a"
      ],
      "metadata": {
        "colab": {
          "base_uri": "https://localhost:8080/"
        },
        "id": "pj7TsvuiPu39",
        "outputId": "b2e183fc-7786-4a23-b421-f319b88b3e95"
      },
      "execution_count": null,
      "outputs": [
        {
          "output_type": "execute_result",
          "data": {
            "text/plain": [
              "{0, 1, 4, 9, 16, 25, 36, 49, 64, 81}"
            ]
          },
          "metadata": {},
          "execution_count": 7
        }
      ]
    },
    {
      "cell_type": "code",
      "source": [
        "#intersection multiple sets\n",
        "a={1,2,3,4,5,6}\n",
        "b={1,2,7,8,9,10}\n",
        "c={1,2,11,12,13,14}\n",
        "d={1,2,15,16,17,18}\n",
        "e=a.intersection(b,c,d)\n",
        "e"
      ],
      "metadata": {
        "colab": {
          "base_uri": "https://localhost:8080/"
        },
        "id": "lEr8NvuyPxq_",
        "outputId": "4d7d7872-9f93-422b-fd7b-a4f1b34cf0fe"
      },
      "execution_count": null,
      "outputs": [
        {
          "output_type": "execute_result",
          "data": {
            "text/plain": [
              "{1, 2}"
            ]
          },
          "metadata": {},
          "execution_count": 8
        }
      ]
    },
    {
      "cell_type": "markdown",
      "source": [
        "#To check given number is valid or not"
      ],
      "metadata": {
        "id": "jUfwi_H2QkWs"
      }
    },
    {
      "cell_type": "code",
      "source": [
        "a=int(input(\"enter the mobile number\"))\n",
        "set1=set(range(11111111111))\n",
        "if a in set1:\n",
        "  print(\"successfull\")\n",
        "else:\n",
        "  print(\"enter a valid mobile number\")"
      ],
      "metadata": {
        "id": "lQ3uoa92Qp0f"
      },
      "execution_count": null,
      "outputs": []
    },
    {
      "cell_type": "code",
      "source": [],
      "metadata": {
        "id": "ELIjZalcRDtd"
      },
      "execution_count": null,
      "outputs": []
    },
    {
      "cell_type": "code",
      "source": [],
      "metadata": {
        "id": "QGwaY_VQ8KVN"
      },
      "execution_count": null,
      "outputs": []
    },
    {
      "cell_type": "markdown",
      "source": [
        "#TASK 18/11/2024"
      ],
      "metadata": {
        "id": "OOZpAQQ-8K9M"
      }
    },
    {
      "cell_type": "markdown",
      "source": [
        "##LIST"
      ],
      "metadata": {
        "id": "O8scTsCL8xpF"
      }
    },
    {
      "cell_type": "code",
      "source": [
        "#1.Create a list of numbers from 1 to 10.\n",
        "a=list(range(1,11))\n",
        "a"
      ],
      "metadata": {
        "colab": {
          "base_uri": "https://localhost:8080/"
        },
        "id": "r9zcWwGK8QE1",
        "outputId": "a017c5d8-9f40-4535-8b55-a86d09d723e9"
      },
      "execution_count": null,
      "outputs": [
        {
          "output_type": "execute_result",
          "data": {
            "text/plain": [
              "[1, 2, 3, 4, 5, 6, 7, 8, 9, 10]"
            ]
          },
          "metadata": {},
          "execution_count": 1
        }
      ]
    },
    {
      "cell_type": "code",
      "source": [
        "#2.Append a new element to the list.\n",
        "a.append(11)\n",
        "a"
      ],
      "metadata": {
        "colab": {
          "base_uri": "https://localhost:8080/"
        },
        "id": "gz6BlUd6818f",
        "outputId": "d84349b1-d5b7-4f69-c9fb-04973f638fa6"
      },
      "execution_count": null,
      "outputs": [
        {
          "output_type": "execute_result",
          "data": {
            "text/plain": [
              "[1, 2, 3, 4, 5, 6, 7, 8, 9, 10, 11]"
            ]
          },
          "metadata": {},
          "execution_count": 2
        }
      ]
    },
    {
      "cell_type": "code",
      "source": [
        "#3.Remove duplicates from a list.\n",
        "a.extend([1, 2, 3, 4, 5, 6, 7, 8, 9, 10, 11])\n",
        "print(a)\n",
        "b=set(a)\n",
        "print(b)\n",
        "a=list(b)\n",
        "print(a)\n"
      ],
      "metadata": {
        "colab": {
          "base_uri": "https://localhost:8080/"
        },
        "id": "GRz13-9u9SIK",
        "outputId": "8b8ed290-2a21-4864-aa62-8bdb39f745a0"
      },
      "execution_count": null,
      "outputs": [
        {
          "output_type": "stream",
          "name": "stdout",
          "text": [
            "[1, 2, 3, 4, 5, 6, 7, 8, 9, 10, 11, 1, 2, 3, 4, 5, 6, 7, 8, 9, 10, 11]\n",
            "{1, 2, 3, 4, 5, 6, 7, 8, 9, 10, 11}\n",
            "[1, 2, 3, 4, 5, 6, 7, 8, 9, 10, 11]\n"
          ]
        }
      ]
    },
    {
      "cell_type": "code",
      "source": [
        "#4.Reverse a list.\n",
        "a.reverse()\n",
        "print(a)\n",
        "c=a[::-1]\n",
        "c"
      ],
      "metadata": {
        "colab": {
          "base_uri": "https://localhost:8080/"
        },
        "id": "2p-wOsWw9qEL",
        "outputId": "cce5ab7a-b137-4ecb-d04a-bac3b51704fb"
      },
      "execution_count": null,
      "outputs": [
        {
          "output_type": "stream",
          "name": "stdout",
          "text": [
            "[11, 10, 9, 8, 7, 6, 5, 4, 3, 2, 1]\n"
          ]
        },
        {
          "output_type": "execute_result",
          "data": {
            "text/plain": [
              "[1, 2, 3, 4, 5, 6, 7, 8, 9, 10, 11]"
            ]
          },
          "metadata": {},
          "execution_count": 16
        }
      ]
    },
    {
      "cell_type": "code",
      "source": [
        "#5.Sort a list of integers in ascending and descending order.\n",
        "a=[11, 10, 9, 8, 7, 6, 5, 4, 3, 2, 1]\n",
        "a.sort()\n",
        "print(a)\n",
        "a.sort(reverse=True)\n",
        "a\n"
      ],
      "metadata": {
        "colab": {
          "base_uri": "https://localhost:8080/"
        },
        "id": "DcMV-Hrb90Rx",
        "outputId": "d657491f-10d7-4847-b1c8-6c809be81a3b"
      },
      "execution_count": null,
      "outputs": [
        {
          "output_type": "stream",
          "name": "stdout",
          "text": [
            "[1, 2, 3, 4, 5, 6, 7, 8, 9, 10, 11]\n"
          ]
        },
        {
          "output_type": "execute_result",
          "data": {
            "text/plain": [
              "[11, 10, 9, 8, 7, 6, 5, 4, 3, 2, 1]"
            ]
          },
          "metadata": {},
          "execution_count": 21
        }
      ]
    },
    {
      "cell_type": "code",
      "source": [
        "#6.Slice a list to extract the first three elements.\n",
        "b=[11, 10, 9, 8, 7, 6, 5, 4, 3, 2, 1]\n",
        "b=b[0:3]\n",
        "b"
      ],
      "metadata": {
        "colab": {
          "base_uri": "https://localhost:8080/"
        },
        "id": "w97YPyEV_BJa",
        "outputId": "b04d8e55-4ebc-4797-8eac-fd032c3b2793"
      },
      "execution_count": null,
      "outputs": [
        {
          "output_type": "execute_result",
          "data": {
            "text/plain": [
              "[11, 10, 9]"
            ]
          },
          "metadata": {},
          "execution_count": 23
        }
      ]
    },
    {
      "cell_type": "code",
      "source": [
        "#7.Find the index of a specific element in a list.\n",
        "b=[11, 10, 9, 8, 7, 6, 5, 4, 3, 2, 1]\n",
        "b.index(11)"
      ],
      "metadata": {
        "colab": {
          "base_uri": "https://localhost:8080/"
        },
        "id": "7_iRNITD_vz6",
        "outputId": "110200f6-abdc-4093-a06b-65c4b9d5c6cc"
      },
      "execution_count": null,
      "outputs": [
        {
          "output_type": "execute_result",
          "data": {
            "text/plain": [
              "0"
            ]
          },
          "metadata": {},
          "execution_count": 27
        }
      ]
    },
    {
      "cell_type": "code",
      "source": [
        "#8.Count occurrences of a specific element in a list.\n",
        "b=[1, 2, 3, 4, 5, 6, 7, 8, 9, 10, 11, 1, 2, 3, 4, 5, 6, 7, 8, 9, 10, 11,1]\n",
        "b.count(1)"
      ],
      "metadata": {
        "colab": {
          "base_uri": "https://localhost:8080/"
        },
        "id": "P19ZIrJU_7ji",
        "outputId": "ceb3fecf-e9e2-4080-a404-36303b2b1030"
      },
      "execution_count": null,
      "outputs": [
        {
          "output_type": "execute_result",
          "data": {
            "text/plain": [
              "3"
            ]
          },
          "metadata": {},
          "execution_count": 29
        }
      ]
    },
    {
      "cell_type": "code",
      "source": [
        "#9.Convert a list of strings to uppercase.\n",
        "str1 = [\"apple\", \"banana\", \"cherry\", \"date\", \"fig\",\"grape\", \"honey\", \"kiwi\", \"lemon\"]\n",
        "str2=list()\n",
        "#or str2=[]\n",
        "\n",
        "#upper()\n",
        "for i in str1:\n",
        "  x=i.upper()\n",
        "  str2.append(x)\n",
        "print(str2)\n"
      ],
      "metadata": {
        "colab": {
          "base_uri": "https://localhost:8080/"
        },
        "id": "OD3O28zhAMNP",
        "outputId": "56751fad-9fb7-470f-ae96-ea40896bc598"
      },
      "execution_count": null,
      "outputs": [
        {
          "output_type": "stream",
          "name": "stdout",
          "text": [
            "['APPLE', 'BANANA', 'CHERRY', 'DATE', 'FIG', 'GRAPE', 'HONEY', 'KIWI', 'LEMON']\n"
          ]
        }
      ]
    },
    {
      "cell_type": "code",
      "source": [
        "str1 = [\"apple\", \"banana\", \"cherry\", \"date\", \"fig\",\"grape\", \"honey\", \"kiwi\", \"lemon\"]\n",
        "str2=list()\n",
        "#or str2=[]\n",
        "#capitalise()\n",
        "for i in str1:\n",
        "  x=i.capitalize()\n",
        "  str2.append(x)\n",
        "print(str2)"
      ],
      "metadata": {
        "colab": {
          "base_uri": "https://localhost:8080/"
        },
        "id": "T4TXSX12A86-",
        "outputId": "4a042281-5a43-4680-e30c-1cd772dcc6bd"
      },
      "execution_count": null,
      "outputs": [
        {
          "output_type": "stream",
          "name": "stdout",
          "text": [
            "['Apple', 'Banana', 'Cherry', 'Date', 'Fig', 'Grape', 'Honey', 'Kiwi', 'Lemon']\n"
          ]
        }
      ]
    },
    {
      "cell_type": "code",
      "source": [
        "str1 = [\"apple\", \"banana\", \"cherry\", \"date\", \"fig\",\"grape\", \"honey\", \"kiwi\", \"lemon\"]\n",
        "str2=list()\n",
        "#or str2=[]\n",
        "#title()\n",
        "for i in str1:\n",
        "  x=i.title()\n",
        "  str2.append(x)\n",
        "print(str2)"
      ],
      "metadata": {
        "colab": {
          "base_uri": "https://localhost:8080/"
        },
        "id": "JKELdJllDJDG",
        "outputId": "e0cdaa6a-fd6b-411a-a9e6-a2f22fcfb81f"
      },
      "execution_count": null,
      "outputs": [
        {
          "output_type": "stream",
          "name": "stdout",
          "text": [
            "['Apple', 'Banana', 'Cherry', 'Date', 'Fig', 'Grape', 'Honey', 'Kiwi', 'Lemon']\n"
          ]
        }
      ]
    },
    {
      "cell_type": "code",
      "source": [
        "str1 = [\"apple\", \"banana\", \"cherry\", \"date\", \"fig\",\"grape\", \"honey\", \"kiwi\", \"lemon\"]\n",
        "str2=list()\n",
        "#or str2=[]\n",
        "#lower()\n",
        "for i in str1:\n",
        "  x=i.lower()\n",
        "  str2.append(x)\n",
        "print(str2)"
      ],
      "metadata": {
        "colab": {
          "base_uri": "https://localhost:8080/"
        },
        "id": "33LvD5FlDJgs",
        "outputId": "605a3624-795c-4642-d7b1-cf603b82e82c"
      },
      "execution_count": null,
      "outputs": [
        {
          "output_type": "stream",
          "name": "stdout",
          "text": [
            "['apple', 'banana', 'cherry', 'date', 'fig', 'grape', 'honey', 'kiwi', 'lemon']\n"
          ]
        }
      ]
    },
    {
      "cell_type": "code",
      "source": [
        "#10.Merge two lists into one\n",
        "\n",
        "a=[\"apple\", \"banana\", \"cherry\", \"date\", \"fig\",\"grape\", \"honey\", \"kiwi\", \"lemon\"]\n",
        "b=[1,2,3,4,5,6,7,8,9]\n",
        "c=a+b\n",
        "print(c)\n",
        "a.extend(b)\n",
        "print(a)"
      ],
      "metadata": {
        "colab": {
          "base_uri": "https://localhost:8080/"
        },
        "id": "YdkMc6ANDYmq",
        "outputId": "ad227326-9dcb-4f14-c127-a88c281b64a4"
      },
      "execution_count": null,
      "outputs": [
        {
          "output_type": "stream",
          "name": "stdout",
          "text": [
            "['apple', 'banana', 'cherry', 'date', 'fig', 'grape', 'honey', 'kiwi', 'lemon', 1, 2, 3, 4, 5, 6, 7, 8, 9]\n",
            "['apple', 'banana', 'cherry', 'date', 'fig', 'grape', 'honey', 'kiwi', 'lemon', 1, 2, 3, 4, 5, 6, 7, 8, 9]\n"
          ]
        }
      ]
    },
    {
      "cell_type": "code",
      "source": [],
      "metadata": {
        "id": "mf0KFPYWDuHC"
      },
      "execution_count": null,
      "outputs": []
    },
    {
      "cell_type": "markdown",
      "source": [
        "#SET"
      ],
      "metadata": {
        "id": "OhHWH9J2EvkU"
      }
    },
    {
      "cell_type": "code",
      "source": [
        "#1.Create a set of unique words from a given sentence.\n",
        "\n",
        "a=\"hello hello my my name name is prahaash PRAHAASH\"\n",
        "b=a.lower()\n",
        "print(b)\n",
        "b=b.split()\n",
        "print(b)\n",
        "c=set(b)\n",
        "print(\"the unique words in given sentence:\\n\",c)\n",
        "\n",
        "\n"
      ],
      "metadata": {
        "colab": {
          "base_uri": "https://localhost:8080/"
        },
        "id": "3JOPiSy1ExdX",
        "outputId": "db9bd2be-ac31-4cd9-af21-e12e1a1b4846"
      },
      "execution_count": null,
      "outputs": [
        {
          "output_type": "stream",
          "name": "stdout",
          "text": [
            "hello hello my my name name is prahaash prahaash\n",
            "['hello', 'hello', 'my', 'my', 'name', 'name', 'is', 'prahaash', 'prahaash']\n",
            "the unique words in given sentence:\n",
            " {'hello', 'name', 'prahaash', 'my', 'is'}\n"
          ]
        }
      ]
    },
    {
      "cell_type": "code",
      "source": [
        "#2.Add an element to a set.\n",
        "a={1,2,3,4,5,6,7,8,9}\n",
        "a.add(10)\n",
        "a"
      ],
      "metadata": {
        "colab": {
          "base_uri": "https://localhost:8080/"
        },
        "id": "H-9Arwv7FGPn",
        "outputId": "3687fe00-f117-45eb-8693-2bac8da8fbcc"
      },
      "execution_count": null,
      "outputs": [
        {
          "output_type": "execute_result",
          "data": {
            "text/plain": [
              "{1, 2, 3, 4, 5, 6, 7, 8, 9, 10}"
            ]
          },
          "metadata": {},
          "execution_count": 56
        }
      ]
    },
    {
      "cell_type": "code",
      "source": [
        "#3.Remove an element from a set.\n",
        "a={1,2,3,4,5,6,7,8,9}\n",
        "a.remove(1)\n",
        "print(a)\n",
        "#discard === Removes element x from the set if it exists. If x is not found, it does nothing (does not raise an error).\n",
        "a.discard(2)\n",
        "a.discard(1)\n",
        "print(a)"
      ],
      "metadata": {
        "colab": {
          "base_uri": "https://localhost:8080/"
        },
        "id": "jsIQwjxAGJZz",
        "outputId": "50bd15e6-84b7-4446-f2ca-ea37db240cdd"
      },
      "execution_count": null,
      "outputs": [
        {
          "output_type": "stream",
          "name": "stdout",
          "text": [
            "{2, 3, 4, 5, 6, 7, 8, 9}\n",
            "{3, 4, 5, 6, 7, 8, 9}\n"
          ]
        }
      ]
    },
    {
      "cell_type": "code",
      "source": [
        "#4.Find the union, intersection, and difference between two sets\n",
        "a={20,30,40,50,60}\n",
        "b={40,50,60,70,80}\n",
        "\n",
        "#union  merge all unique elements\n",
        "c=a.union(b)\n",
        "print(c)\n",
        "\n",
        "#intersection lements common to both sets\n",
        "c=a.intersection(b)\n",
        "print(c)\n",
        "\n",
        "#differece = elements in set_a but not in set_b\n",
        "d=a.difference(b)\n",
        "print(d)"
      ],
      "metadata": {
        "colab": {
          "base_uri": "https://localhost:8080/"
        },
        "id": "blPxXdHNGQww",
        "outputId": "b86adbec-124d-44b2-c74b-749056b0a515"
      },
      "execution_count": null,
      "outputs": [
        {
          "output_type": "stream",
          "name": "stdout",
          "text": [
            "{70, 40, 80, 50, 20, 60, 30}\n",
            "{40, 50, 60}\n",
            "{20, 30}\n"
          ]
        }
      ]
    },
    {
      "cell_type": "code",
      "source": [
        "#5.Check if a set is a subset of another set.\n",
        "#set comparisions\n",
        "a={20,30,40,50,60}\n",
        "b={40,50,60,70,80}\n",
        "a1={1,2,3,4,5,6}\n",
        "b1={6,5,4,3,2,1}\n",
        "\n",
        "#issub,issuper set\n",
        "d=a.issubset(b)  #This checks if all elements of set a are also in set b.\n",
        "e=a.issuperset(b)   #This checks if all elements of set b are also in set a.\n",
        "print(d,e)\n",
        "\n",
        "d=a1.issubset(b1)  #This checks if all elements of set a are also in set b.\n",
        "e=a1.issuperset(b1)   #This checks if all elements of set b are also in set a.\n",
        "print(d,e)\n",
        "\n",
        "#isdisjoint\n",
        "\n",
        "#if sets have no elements in common\n",
        "a1={1,2,3,4,5,6}\n",
        "b1={60,50,40,30,20,10}\n",
        "d=a1.isdisjoint(b1)\n",
        "print(d)\n",
        "\n",
        "a1={1,2,3,4,5,6}\n",
        "b1={6,5,4,3,2,1}\n",
        "d=a1.isdisjoint(b1)\n",
        "print(d)"
      ],
      "metadata": {
        "colab": {
          "base_uri": "https://localhost:8080/"
        },
        "id": "Y9Lr-CmSHHhU",
        "outputId": "ae1bb06d-27c7-4ed6-efed-3973c853c2f0"
      },
      "execution_count": null,
      "outputs": [
        {
          "output_type": "stream",
          "name": "stdout",
          "text": [
            "False False\n",
            "True True\n",
            "True\n",
            "False\n"
          ]
        }
      ]
    },
    {
      "cell_type": "code",
      "source": [
        "#6.Convert a list with duplicate values to a set to remove duplicates.\n",
        "li1=[1,1,2,2,3,3,4,5,6,7,7]\n",
        "set1=set(li1)\n",
        "print(set1)\n",
        "li1=list(set1)\n",
        "li1"
      ],
      "metadata": {
        "colab": {
          "base_uri": "https://localhost:8080/"
        },
        "id": "XNlpck59HXpT",
        "outputId": "dd7cc5eb-f501-463b-a52c-f7badb3f13b7"
      },
      "execution_count": null,
      "outputs": [
        {
          "output_type": "stream",
          "name": "stdout",
          "text": [
            "{1, 2, 3, 4, 5, 6, 7}\n"
          ]
        },
        {
          "output_type": "execute_result",
          "data": {
            "text/plain": [
              "[1, 2, 3, 4, 5, 6, 7]"
            ]
          },
          "metadata": {},
          "execution_count": 63
        }
      ]
    },
    {
      "cell_type": "code",
      "source": [
        "#7.Iterate through all elements of a set.\n",
        "li1=[1,1,2,2,3,3,4,5,6,7,7]\n",
        "a=0\n",
        "li2=[]\n",
        "for i in li1:\n",
        "  if a!=i:\n",
        "    li2.append(i)\n",
        "    a=i\n",
        "print(li2)\n"
      ],
      "metadata": {
        "colab": {
          "base_uri": "https://localhost:8080/"
        },
        "id": "pwsQPLnnHpIT",
        "outputId": "0c6b0057-7a18-4b9a-e5a3-6ab0c5d23c71"
      },
      "execution_count": null,
      "outputs": [
        {
          "output_type": "stream",
          "name": "stdout",
          "text": [
            "[1, 2, 3, 4, 5, 6, 7]\n"
          ]
        }
      ]
    },
    {
      "cell_type": "code",
      "source": [
        "#8.Find the symmetric difference between two sets.\n",
        "a={12,3,14,5,16,7,18}\n",
        "b={1,2,3,4,5,6,7,8,9,10}\n",
        "c=a.symmetric_difference(b)\n",
        "c\n"
      ],
      "metadata": {
        "id": "UwAx-chgItz1",
        "colab": {
          "base_uri": "https://localhost:8080/"
        },
        "outputId": "f84d201d-ec0b-4fde-a457-a85a7193c6f3"
      },
      "execution_count": null,
      "outputs": [
        {
          "output_type": "execute_result",
          "data": {
            "text/plain": [
              "{1, 2, 4, 6, 8, 9, 10, 12, 14, 16, 18}"
            ]
          },
          "metadata": {},
          "execution_count": 1
        }
      ]
    },
    {
      "cell_type": "code",
      "source": [
        "#9.Check if a set is empty.\n",
        "\n",
        "li=set(input(\"enter list elements\"))\n",
        "if li==set():   #or li=={}\n",
        "  print(\"empty set\",li)\n",
        "else:\n",
        "  print(\"set contains elements\",li)"
      ],
      "metadata": {
        "colab": {
          "base_uri": "https://localhost:8080/"
        },
        "id": "GML0G_kRkIys",
        "outputId": "92218a89-5bc0-42d9-8c41-05c255b5ebb8"
      },
      "execution_count": null,
      "outputs": [
        {
          "output_type": "stream",
          "name": "stdout",
          "text": [
            "enter list elements1\n",
            "set contains elements {'1'}\n"
          ]
        }
      ]
    },
    {
      "cell_type": "code",
      "source": [
        "#10.Compare two sets for equality.\n",
        "a={12,13,14,15,16,17}\n",
        "b={12,13,14,15,16,1}\n",
        "if a==b:\n",
        "  print(\"sets are equal\")\n",
        "else:\n",
        "  print(\"not equal\")"
      ],
      "metadata": {
        "colab": {
          "base_uri": "https://localhost:8080/"
        },
        "id": "QwHue2zyk74r",
        "outputId": "1d9dbe5f-627e-41dc-8cfa-1fcd64e01780"
      },
      "execution_count": null,
      "outputs": [
        {
          "output_type": "stream",
          "name": "stdout",
          "text": [
            "not equal\n"
          ]
        }
      ]
    },
    {
      "cell_type": "markdown",
      "source": [
        "#FILE HANDLING"
      ],
      "metadata": {
        "id": "cbRYyP6b5Kq-"
      }
    },
    {
      "cell_type": "code",
      "source": [
        "#\tRead-only mode: Opens the file for reading. If the file does not exist, it raises a FileNotFoundError. (This is the default mode.)\n",
        "import os\n",
        "from google.colab import files\n",
        "a=files.upload()\n",
        "b='basic.txt'\n",
        "with open (b,'r') as c:\n",
        "  d=c.read()\n",
        "  print(d)\n"
      ],
      "metadata": {
        "id": "bZ_2DVclyT0J",
        "colab": {
          "base_uri": "https://localhost:8080/",
          "height": 1000
        },
        "outputId": "7d4afbce-dfcb-49eb-882b-f8888d0b1ed7"
      },
      "execution_count": null,
      "outputs": [
        {
          "output_type": "display_data",
          "data": {
            "text/plain": [
              "<IPython.core.display.HTML object>"
            ],
            "text/html": [
              "\n",
              "     <input type=\"file\" id=\"files-f96fc705-a69f-4332-9aaf-12a3fa3b1bda\" name=\"files[]\" multiple disabled\n",
              "        style=\"border:none\" />\n",
              "     <output id=\"result-f96fc705-a69f-4332-9aaf-12a3fa3b1bda\">\n",
              "      Upload widget is only available when the cell has been executed in the\n",
              "      current browser session. Please rerun this cell to enable.\n",
              "      </output>\n",
              "      <script>// Copyright 2017 Google LLC\n",
              "//\n",
              "// Licensed under the Apache License, Version 2.0 (the \"License\");\n",
              "// you may not use this file except in compliance with the License.\n",
              "// You may obtain a copy of the License at\n",
              "//\n",
              "//      http://www.apache.org/licenses/LICENSE-2.0\n",
              "//\n",
              "// Unless required by applicable law or agreed to in writing, software\n",
              "// distributed under the License is distributed on an \"AS IS\" BASIS,\n",
              "// WITHOUT WARRANTIES OR CONDITIONS OF ANY KIND, either express or implied.\n",
              "// See the License for the specific language governing permissions and\n",
              "// limitations under the License.\n",
              "\n",
              "/**\n",
              " * @fileoverview Helpers for google.colab Python module.\n",
              " */\n",
              "(function(scope) {\n",
              "function span(text, styleAttributes = {}) {\n",
              "  const element = document.createElement('span');\n",
              "  element.textContent = text;\n",
              "  for (const key of Object.keys(styleAttributes)) {\n",
              "    element.style[key] = styleAttributes[key];\n",
              "  }\n",
              "  return element;\n",
              "}\n",
              "\n",
              "// Max number of bytes which will be uploaded at a time.\n",
              "const MAX_PAYLOAD_SIZE = 100 * 1024;\n",
              "\n",
              "function _uploadFiles(inputId, outputId) {\n",
              "  const steps = uploadFilesStep(inputId, outputId);\n",
              "  const outputElement = document.getElementById(outputId);\n",
              "  // Cache steps on the outputElement to make it available for the next call\n",
              "  // to uploadFilesContinue from Python.\n",
              "  outputElement.steps = steps;\n",
              "\n",
              "  return _uploadFilesContinue(outputId);\n",
              "}\n",
              "\n",
              "// This is roughly an async generator (not supported in the browser yet),\n",
              "// where there are multiple asynchronous steps and the Python side is going\n",
              "// to poll for completion of each step.\n",
              "// This uses a Promise to block the python side on completion of each step,\n",
              "// then passes the result of the previous step as the input to the next step.\n",
              "function _uploadFilesContinue(outputId) {\n",
              "  const outputElement = document.getElementById(outputId);\n",
              "  const steps = outputElement.steps;\n",
              "\n",
              "  const next = steps.next(outputElement.lastPromiseValue);\n",
              "  return Promise.resolve(next.value.promise).then((value) => {\n",
              "    // Cache the last promise value to make it available to the next\n",
              "    // step of the generator.\n",
              "    outputElement.lastPromiseValue = value;\n",
              "    return next.value.response;\n",
              "  });\n",
              "}\n",
              "\n",
              "/**\n",
              " * Generator function which is called between each async step of the upload\n",
              " * process.\n",
              " * @param {string} inputId Element ID of the input file picker element.\n",
              " * @param {string} outputId Element ID of the output display.\n",
              " * @return {!Iterable<!Object>} Iterable of next steps.\n",
              " */\n",
              "function* uploadFilesStep(inputId, outputId) {\n",
              "  const inputElement = document.getElementById(inputId);\n",
              "  inputElement.disabled = false;\n",
              "\n",
              "  const outputElement = document.getElementById(outputId);\n",
              "  outputElement.innerHTML = '';\n",
              "\n",
              "  const pickedPromise = new Promise((resolve) => {\n",
              "    inputElement.addEventListener('change', (e) => {\n",
              "      resolve(e.target.files);\n",
              "    });\n",
              "  });\n",
              "\n",
              "  const cancel = document.createElement('button');\n",
              "  inputElement.parentElement.appendChild(cancel);\n",
              "  cancel.textContent = 'Cancel upload';\n",
              "  const cancelPromise = new Promise((resolve) => {\n",
              "    cancel.onclick = () => {\n",
              "      resolve(null);\n",
              "    };\n",
              "  });\n",
              "\n",
              "  // Wait for the user to pick the files.\n",
              "  const files = yield {\n",
              "    promise: Promise.race([pickedPromise, cancelPromise]),\n",
              "    response: {\n",
              "      action: 'starting',\n",
              "    }\n",
              "  };\n",
              "\n",
              "  cancel.remove();\n",
              "\n",
              "  // Disable the input element since further picks are not allowed.\n",
              "  inputElement.disabled = true;\n",
              "\n",
              "  if (!files) {\n",
              "    return {\n",
              "      response: {\n",
              "        action: 'complete',\n",
              "      }\n",
              "    };\n",
              "  }\n",
              "\n",
              "  for (const file of files) {\n",
              "    const li = document.createElement('li');\n",
              "    li.append(span(file.name, {fontWeight: 'bold'}));\n",
              "    li.append(span(\n",
              "        `(${file.type || 'n/a'}) - ${file.size} bytes, ` +\n",
              "        `last modified: ${\n",
              "            file.lastModifiedDate ? file.lastModifiedDate.toLocaleDateString() :\n",
              "                                    'n/a'} - `));\n",
              "    const percent = span('0% done');\n",
              "    li.appendChild(percent);\n",
              "\n",
              "    outputElement.appendChild(li);\n",
              "\n",
              "    const fileDataPromise = new Promise((resolve) => {\n",
              "      const reader = new FileReader();\n",
              "      reader.onload = (e) => {\n",
              "        resolve(e.target.result);\n",
              "      };\n",
              "      reader.readAsArrayBuffer(file);\n",
              "    });\n",
              "    // Wait for the data to be ready.\n",
              "    let fileData = yield {\n",
              "      promise: fileDataPromise,\n",
              "      response: {\n",
              "        action: 'continue',\n",
              "      }\n",
              "    };\n",
              "\n",
              "    // Use a chunked sending to avoid message size limits. See b/62115660.\n",
              "    let position = 0;\n",
              "    do {\n",
              "      const length = Math.min(fileData.byteLength - position, MAX_PAYLOAD_SIZE);\n",
              "      const chunk = new Uint8Array(fileData, position, length);\n",
              "      position += length;\n",
              "\n",
              "      const base64 = btoa(String.fromCharCode.apply(null, chunk));\n",
              "      yield {\n",
              "        response: {\n",
              "          action: 'append',\n",
              "          file: file.name,\n",
              "          data: base64,\n",
              "        },\n",
              "      };\n",
              "\n",
              "      let percentDone = fileData.byteLength === 0 ?\n",
              "          100 :\n",
              "          Math.round((position / fileData.byteLength) * 100);\n",
              "      percent.textContent = `${percentDone}% done`;\n",
              "\n",
              "    } while (position < fileData.byteLength);\n",
              "  }\n",
              "\n",
              "  // All done.\n",
              "  yield {\n",
              "    response: {\n",
              "      action: 'complete',\n",
              "    }\n",
              "  };\n",
              "}\n",
              "\n",
              "scope.google = scope.google || {};\n",
              "scope.google.colab = scope.google.colab || {};\n",
              "scope.google.colab._files = {\n",
              "  _uploadFiles,\n",
              "  _uploadFilesContinue,\n",
              "};\n",
              "})(self);\n",
              "</script> "
            ]
          },
          "metadata": {}
        },
        {
          "output_type": "stream",
          "name": "stdout",
          "text": [
            "Saving basic.txt to basic (1).txt\n",
            "1. HTML (HyperText Markup Language)\n",
            "\n",
            "Explanation: HTML is the standard markup language used to create web pages. It structures the content on the web, \n",
            "defining elements like headings, paragraphs, links, and images.\n",
            "\n",
            "Use Case: Building the structure of a blog post where you use HTML to define the title, content, and images displayed on the page.\n",
            "\n",
            "\n",
            "2. CSS (Cascading Style Sheets)\n",
            "\n",
            "Explanation: CSS is used to style HTML elements. It controls layout, colors, fonts, and overall aesthetics of web pages.\n",
            "\n",
            "Use Case: Designing the layout and appearance of a website, such as using CSS to \n",
            "create responsive designs that adjust based on the device screen size.\n",
            "\n",
            "\n",
            "Bootstrap\n",
            "\n",
            "Explanation: Bootstrap is a popular front-end framework that provides pre-designed CSS components and JavaScript plugins for faster web development.\n",
            "\n",
            "Use Case: Using Bootstrap to quickly create a responsive website layout with navigation bars, buttons, and \n",
            "grid systems without writing extensive CSS from scratch.\n",
            "\n",
            "\n",
            "Tailwind CSS\n",
            "\n",
            "Explanation: Tailwind CSS is a utility-first CSS framework that allows developers to create designs directly in the markup by using utility classes.\n",
            "\n",
            "Use Case: Building a landing page where you apply Tailwind utility classes to style elements on the fly without writing custom CSS.\n",
            "\n",
            "\n",
            "3. JavaScript\n",
            "\n",
            "Explanation: JavaScript is a programming language that enables dynamic and interactive features on web pages. \n",
            "It runs in the browser and is essential for client-side scripting.\n",
            "\n",
            "Use Case: Creating an interactive quiz application that provides instant feedback to users based on their input without refreshing the page.\n",
            "\n",
            "\n",
            "4. Angular\n",
            "\n",
            "Explanation: Angular is a web application framework developed by Google for building single-page applications (SPAs) using TypeScript.\n",
            " It offers a component-based architecture.\n",
            "\n",
            "Use Case: Developing a complex web application like an online e-commerce site where the user can navigate through products without reloading the page.\n",
            "\n",
            "\n",
            "5. Ionic\n",
            "\n",
            "Explanation: Ionic is a framework for building cross-platform mobile applications using web technologies (HTML, CSS, JavaScript). \n",
            "It allows developers to create native-like apps for iOS and Android.\n",
            "\n",
            "Use Case: Creating a mobile app for a restaurant that allows users to browse the menu, place orders, and make reservations.\n",
            "\n",
            "\n",
            "6. Python\n",
            "\n",
            "Explanation: Python is a high-level, versatile programming language known for its readability and simplicity.\n",
            " It’s widely used in various fields like web development, data analysis, and machine learning.\n",
            "\n",
            "Use Case: Building a data analysis tool that processes and visualizes sales data for a retail business using libraries like Pandas and Matplotlib.\n",
            "\n",
            "\n",
            "7. Node.js\n",
            "\n",
            "Explanation: Node.js is a runtime environment that allows JavaScript to run on the server side. It’s designed for building scalable network applications.\n",
            "\n",
            "Use Case: Creating a real-time chat application where users can send and receive messages instantly, leveraging WebSocket functionality in Node.js.\n",
            "\n",
            "\n",
            "8. PHP\n",
            "\n",
            "Explanation: PHP is a server-side scripting language primarily used for web development. \n",
            "It is embedded in HTML and used to manage dynamic content and databases.\n",
            "\n",
            "Use Case: Developing a content management system (CMS) like WordPress, where users can create, edit, and manage website content easily.\n",
            "\n",
            "\n",
            "Flutter\n",
            "\n",
            "Explanation: Flutter is a UI toolkit developed by Google for building natively compiled applications for mobile, web, \n",
            "and desktop from a single codebase using Dart.\n",
            "\n",
            "Use Case: Creating a mobile app for a fitness tracker that displays user activity, allows workout logging, and tracks progress over time.\n",
            "\n",
            "\n",
            "9. MS SQL (Microsoft SQL Server)\n",
            "\n",
            "Explanation: MS SQL is a relational database management system (RDBMS) developed by Microsoft for storing and managing data. \n",
            "It uses SQL for data manipulation.\n",
            "\n",
            "Use Case: Running a banking application that securely manages customer account data, transactions, and balances using stored procedures and transactions in MS SQL.\n",
            "\n",
            "\n",
            "10. MySQL\n",
            "\n",
            "Explanation: MySQL is an open-source relational database management system widely used for web applications. \n",
            "It is known for its reliability and ease of use.\n",
            "\n",
            "Use Case: Hosting a social media platform where user profiles, posts, and interactions are stored and retrieved from a MySQL database.\n",
            "\n",
            "\n",
            "11. MongoDB\n",
            "\n",
            "Explanation: MongoDB is a NoSQL database that uses a document-oriented data model. \n",
            "It stores data in JSON-like documents, making it flexible for handling unstructured data.\n",
            "\n",
            "Use Case: Developing an online movie database where users can add, review, and search for movies with varying attributes stored in MongoDB.\n",
            "\n",
            "\n",
            "Summary\n",
            "\n",
            "Each of these technologies plays a crucial role in web and app development, with specific use cases that demonstrate their capabilities in real-time applications. By combining them, developers can create robust and interactive software solutions for various industries.\n"
          ]
        }
      ]
    },
    {
      "cell_type": "code",
      "source": [
        "print(a)"
      ],
      "metadata": {
        "id": "BBqPhaXC7I9f",
        "colab": {
          "base_uri": "https://localhost:8080/"
        },
        "outputId": "183a4ae5-6132-4326-8645-780eb5db59ed"
      },
      "execution_count": null,
      "outputs": [
        {
          "output_type": "stream",
          "name": "stdout",
          "text": [
            "{'basic.txt': b'1. HTML (HyperText Markup Language)\\r\\n\\r\\nExplanation: HTML is the standard markup language used to create web pages. It structures the content on the web, \\r\\ndefining elements like headings, paragraphs, links, and images.\\r\\n\\r\\nUse Case: Building the structure of a blog post where you use HTML to define the title, content, and images displayed on the page.\\r\\n\\r\\n\\r\\n2. CSS (Cascading Style Sheets)\\r\\n\\r\\nExplanation: CSS is used to style HTML elements. It controls layout, colors, fonts, and overall aesthetics of web pages.\\r\\n\\r\\nUse Case: Designing the layout and appearance of a website, such as using CSS to \\r\\ncreate responsive designs that adjust based on the device screen size.\\r\\n\\r\\n\\r\\nBootstrap\\r\\n\\r\\nExplanation: Bootstrap is a popular front-end framework that provides pre-designed CSS components and JavaScript plugins for faster web development.\\r\\n\\r\\nUse Case: Using Bootstrap to quickly create a responsive website layout with navigation bars, buttons, and \\r\\ngrid systems without writing extensive CSS from scratch.\\r\\n\\r\\n\\r\\nTailwind CSS\\r\\n\\r\\nExplanation: Tailwind CSS is a utility-first CSS framework that allows developers to create designs directly in the markup by using utility classes.\\r\\n\\r\\nUse Case: Building a landing page where you apply Tailwind utility classes to style elements on the fly without writing custom CSS.\\r\\n\\r\\n\\r\\n3. JavaScript\\r\\n\\r\\nExplanation: JavaScript is a programming language that enables dynamic and interactive features on web pages. \\r\\nIt runs in the browser and is essential for client-side scripting.\\r\\n\\r\\nUse Case: Creating an interactive quiz application that provides instant feedback to users based on their input without refreshing the page.\\r\\n\\r\\n\\r\\n4. Angular\\r\\n\\r\\nExplanation: Angular is a web application framework developed by Google for building single-page applications (SPAs) using TypeScript.\\r\\n It offers a component-based architecture.\\r\\n\\r\\nUse Case: Developing a complex web application like an online e-commerce site where the user can navigate through products without reloading the page.\\r\\n\\r\\n\\r\\n5. Ionic\\r\\n\\r\\nExplanation: Ionic is a framework for building cross-platform mobile applications using web technologies (HTML, CSS, JavaScript). \\r\\nIt allows developers to create native-like apps for iOS and Android.\\r\\n\\r\\nUse Case: Creating a mobile app for a restaurant that allows users to browse the menu, place orders, and make reservations.\\r\\n\\r\\n\\r\\n6. Python\\r\\n\\r\\nExplanation: Python is a high-level, versatile programming language known for its readability and simplicity.\\r\\n It\\xe2\\x80\\x99s widely used in various fields like web development, data analysis, and machine learning.\\r\\n\\r\\nUse Case: Building a data analysis tool that processes and visualizes sales data for a retail business using libraries like Pandas and Matplotlib.\\r\\n\\r\\n\\r\\n7. Node.js\\r\\n\\r\\nExplanation: Node.js is a runtime environment that allows JavaScript to run on the server side. It\\xe2\\x80\\x99s designed for building scalable network applications.\\r\\n\\r\\nUse Case: Creating a real-time chat application where users can send and receive messages instantly, leveraging WebSocket functionality in Node.js.\\r\\n\\r\\n\\r\\n8. PHP\\r\\n\\r\\nExplanation: PHP is a server-side scripting language primarily used for web development. \\r\\nIt is embedded in HTML and used to manage dynamic content and databases.\\r\\n\\r\\nUse Case: Developing a content management system (CMS) like WordPress, where users can create, edit, and manage website content easily.\\r\\n\\r\\n\\r\\nFlutter\\r\\n\\r\\nExplanation: Flutter is a UI toolkit developed by Google for building natively compiled applications for mobile, web, \\r\\nand desktop from a single codebase using Dart.\\r\\n\\r\\nUse Case: Creating a mobile app for a fitness tracker that displays user activity, allows workout logging, and tracks progress over time.\\r\\n\\r\\n\\r\\n9. MS SQL (Microsoft SQL Server)\\r\\n\\r\\nExplanation: MS SQL is a relational database management system (RDBMS) developed by Microsoft for storing and managing data. \\r\\nIt uses SQL for data manipulation.\\r\\n\\r\\nUse Case: Running a banking application that securely manages customer account data, transactions, and balances using stored procedures and transactions in MS SQL.\\r\\n\\r\\n\\r\\n10. MySQL\\r\\n\\r\\nExplanation: MySQL is an open-source relational database management system widely used for web applications. \\r\\nIt is known for its reliability and ease of use.\\r\\n\\r\\nUse Case: Hosting a social media platform where user profiles, posts, and interactions are stored and retrieved from a MySQL database.\\r\\n\\r\\n\\r\\n11. MongoDB\\r\\n\\r\\nExplanation: MongoDB is a NoSQL database that uses a document-oriented data model. \\r\\nIt stores data in JSON-like documents, making it flexible for handling unstructured data.\\r\\n\\r\\nUse Case: Developing an online movie database where users can add, review, and search for movies with varying attributes stored in MongoDB.\\r\\n\\r\\n\\r\\nSummary\\r\\n\\r\\nEach of these technologies plays a crucial role in web and app development, with specific use cases that demonstrate their capabilities in real-time applications. By combining them, developers can create robust and interactive software solutions for various industries.'}\n"
          ]
        }
      ]
    },
    {
      "cell_type": "code",
      "source": [],
      "metadata": {
        "id": "q7G6UMWtFBUo"
      },
      "execution_count": null,
      "outputs": []
    }
  ]
}